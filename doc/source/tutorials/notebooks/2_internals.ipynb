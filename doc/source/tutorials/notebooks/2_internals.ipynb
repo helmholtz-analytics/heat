{
 "cells": [
  {
   "cell_type": "markdown",
   "metadata": {},
   "source": [
    "# Heat as infrastructure for MPI applications\n",
    "\n",
    "In this section, we'll go through some Heat-specific functionalities that simplify the implementation of a data-parallel application in Python. We'll demonstrate them on small arrays and 4 processes on a single cluster node, but the functionalities are indeed meant for a multi-node set up with huge arrays that cannot be processed on a single node."
   ]
  },
  {
   "cell_type": "markdown",
   "metadata": {},
   "source": [
    "Your IPython cluster should still be running. Let's check it out."
   ]
  },
  {
   "cell_type": "code",
   "execution_count": null,
   "metadata": {},
   "outputs": [
    {
     "name": "stdout",
     "output_type": "stream",
     "text": [
      "4 engines found\n"
     ]
    }
   ],
   "source": [
    "from ipyparallel import Client\n",
    "rc = Client(profile=\"mpi\")\n",
    "rc.ids\n",
    "\n",
    "if len(rc.ids) == 0:\n",
    "    print(\"No engines found\")\n",
    "else:\n",
    "    print(f\"{len(rc.ids)} engines found\")"
   ]
  },
  {
   "cell_type": "markdown",
   "metadata": {},
   "source": [
    "If no engines are found, go back to the [Intro](0_setup/0_setup_local.ipynb) for instructions."
   ]
  },
  {
   "cell_type": "markdown",
   "metadata": {},
   "source": [
    "We already mentioned that the DNDarray object is \"MPI-aware\". Each DNDarray is associated to an MPI communicator, it is aware of the number of processes in the communicator, and it knows the rank of the process that owns it. \n",
    "\n",
    "We will use the %%px magic in every cell that executes MPI code."
   ]
  },
  {
   "cell_type": "code",
   "execution_count": null,
   "metadata": {
    "tags": []
   },
   "outputs": [
    {
     "data": {
      "text/plain": [
       "\u001b[0;31mOut[0:46]: \u001b[0m<heat.core.communication.MPICommunication at 0x1515356d6890>"
      ]
     },
     "metadata": {
      "after": null,
      "completed": null,
      "data": {},
      "engine_id": 0,
      "engine_uuid": "543fa706-d4b8193b78e0d95e06ec1961",
      "error": null,
      "execute_input": "a = ht.random.randn(7,4,3, split=0)\na.comm\n",
      "execute_result": {
       "data": {
        "text/plain": "<heat.core.communication.MPICommunication at 0x1515356d6890>"
       },
       "execution_count": 46,
       "metadata": {}
      },
      "follow": null,
      "msg_id": null,
      "outputs": [],
      "received": null,
      "started": null,
      "status": null,
      "stderr": "",
      "stdout": "",
      "submitted": "2025-05-13T14:07:59.878946Z"
     },
     "output_type": "display_data"
    },
    {
     "data": {
      "text/plain": [
       "\u001b[0;31mOut[1:28]: \u001b[0m<heat.core.communication.MPICommunication at 0x1498fc6ebdd0>"
      ]
     },
     "metadata": {
      "after": null,
      "completed": null,
      "data": {},
      "engine_id": 1,
      "engine_uuid": "17d049f8-d76118014219b1233628f073",
      "error": null,
      "execute_input": "a = ht.random.randn(7,4,3, split=0)\na.comm\n",
      "execute_result": {
       "data": {
        "text/plain": "<heat.core.communication.MPICommunication at 0x1498fc6ebdd0>"
       },
       "execution_count": 28,
       "metadata": {}
      },
      "follow": null,
      "msg_id": null,
      "outputs": [],
      "received": null,
      "started": null,
      "status": null,
      "stderr": "",
      "stdout": "",
      "submitted": "2025-05-13T14:07:59.879286Z"
     },
     "output_type": "display_data"
    },
    {
     "data": {
      "text/plain": [
       "\u001b[0;31mOut[3:28]: \u001b[0m<heat.core.communication.MPICommunication at 0x148c1805ef90>"
      ]
     },
     "metadata": {
      "after": null,
      "completed": null,
      "data": {},
      "engine_id": 3,
      "engine_uuid": "32fca69b-1268e1bcf75370a03e00963a",
      "error": null,
      "execute_input": "a = ht.random.randn(7,4,3, split=0)\na.comm\n",
      "execute_result": {
       "data": {
        "text/plain": "<heat.core.communication.MPICommunication at 0x148c1805ef90>"
       },
       "execution_count": 28,
       "metadata": {}
      },
      "follow": null,
      "msg_id": null,
      "outputs": [],
      "received": null,
      "started": null,
      "status": null,
      "stderr": "",
      "stdout": "",
      "submitted": "2025-05-13T14:07:59.879399Z"
     },
     "output_type": "display_data"
    },
    {
     "data": {
      "text/plain": [
       "\u001b[0;31mOut[2:28]: \u001b[0m<heat.core.communication.MPICommunication at 0x14feaa8148d0>"
      ]
     },
     "metadata": {
      "after": null,
      "completed": null,
      "data": {},
      "engine_id": 2,
      "engine_uuid": "09ecac9d-c570b181f02374fce3cd9436",
      "error": null,
      "execute_input": "a = ht.random.randn(7,4,3, split=0)\na.comm\n",
      "execute_result": {
       "data": {
        "text/plain": "<heat.core.communication.MPICommunication at 0x14feaa8148d0>"
       },
       "execution_count": 28,
       "metadata": {}
      },
      "follow": null,
      "msg_id": null,
      "outputs": [],
      "received": null,
      "started": null,
      "status": null,
      "stderr": "",
      "stdout": "",
      "submitted": "2025-05-13T14:07:59.879344Z"
     },
     "output_type": "display_data"
    }
   ],
   "source": [
    "\n",
    "%%px\n",
    "a = ht.random.randn(7,4,3, split=0)\n",
    "a.comm"
   ]
  },
  {
   "cell_type": "code",
   "execution_count": null,
   "metadata": {},
   "outputs": [
    {
     "data": {
      "text/plain": [
       "[stdout:0] a is distributed over 4 processes\n",
       "a is a distributed 3-dimensional array with global shape (7, 4, 3)\n"
      ]
     },
     "metadata": {},
     "output_type": "display_data"
    },
    {
     "data": {
      "text/plain": [
       "[stdout:1] a is distributed over 4 processes\n",
       "a is a distributed 3-dimensional array with global shape (7, 4, 3)\n"
      ]
     },
     "metadata": {},
     "output_type": "display_data"
    },
    {
     "data": {
      "text/plain": [
       "[stdout:2] a is distributed over 4 processes\n",
       "a is a distributed 3-dimensional array with global shape (7, 4, 3)\n"
      ]
     },
     "metadata": {},
     "output_type": "display_data"
    },
    {
     "data": {
      "text/plain": [
       "[stdout:3] a is distributed over 4 processes\n",
       "a is a distributed 3-dimensional array with global shape (7, 4, 3)\n"
      ]
     },
     "metadata": {},
     "output_type": "display_data"
    }
   ],
   "source": [
    "%%px\n",
    "# MPI size = total number of processes \n",
    "size = a.comm.size\n",
    "\n",
    "print(f\"a is distributed over {size} processes\")\n",
    "print(f\"a is a distributed {a.ndim}-dimensional array with global shape {a.shape}\")"
   ]
  },
  {
   "cell_type": "code",
   "execution_count": null,
   "metadata": {},
   "outputs": [
    {
     "data": {
      "text/plain": [
       "[stdout:0] Rank 0 holds a slice of a with local shape (2, 4, 3)\n"
      ]
     },
     "metadata": {},
     "output_type": "display_data"
    },
    {
     "data": {
      "text/plain": [
       "[stdout:2] Rank 2 holds a slice of a with local shape (2, 4, 3)\n"
      ]
     },
     "metadata": {},
     "output_type": "display_data"
    },
    {
     "data": {
      "text/plain": [
       "[stdout:1] Rank 1 holds a slice of a with local shape (2, 4, 3)\n"
      ]
     },
     "metadata": {},
     "output_type": "display_data"
    },
    {
     "data": {
      "text/plain": [
       "[stdout:3] Rank 3 holds a slice of a with local shape (1, 4, 3)\n"
      ]
     },
     "metadata": {},
     "output_type": "display_data"
    }
   ],
   "source": [
    "%%px\n",
    "# MPI rank = rank of each process\n",
    "rank = a.comm.rank\n",
    "# Local shape = shape of the data on each process\n",
    "local_shape = a.lshape\n",
    "print(f\"Rank {rank} holds a slice of a with local shape {local_shape}\")"
   ]
  },
  {
   "cell_type": "markdown",
   "metadata": {},
   "source": [
    "### Distribution map\n",
    "\n",
    "In many occasions, when building a memory-distributed pipeline it will be convenient for each rank to have information on what ranks holds which slice of the distributed array. \n",
    "\n",
    "The `lshape_map` attribute of a DNDarray gathers (or, if possible, calculates) this info from all processes and stores it as metadata of the DNDarray. Because it is meant for internal use, it is stored in a torch tensor, not a DNDarray. \n",
    "\n",
    "The `lshape_map` tensor is a 2D tensor, where the first dimension is the number of processes and the second dimension is the number of dimensions of the array. Each row of the tensor contains the local shape of the array on a process. "
   ]
  },
  {
   "cell_type": "code",
   "execution_count": null,
   "metadata": {},
   "outputs": [
    {
     "data": {
      "text/plain": [
       "\u001b[0;31mOut[0:49]: \u001b[0m\n",
       "tensor([[2, 4, 3],\n",
       "        [2, 4, 3],\n",
       "        [2, 4, 3],\n",
       "        [1, 4, 3]])"
      ]
     },
     "metadata": {
      "after": null,
      "completed": null,
      "data": {},
      "engine_id": 0,
      "engine_uuid": "543fa706-d4b8193b78e0d95e06ec1961",
      "error": null,
      "execute_input": "lshape_map = a.lshape_map\nlshape_map\n",
      "execute_result": {
       "data": {
        "text/plain": "tensor([[2, 4, 3],\n        [2, 4, 3],\n        [2, 4, 3],\n        [1, 4, 3]])"
       },
       "execution_count": 49,
       "metadata": {}
      },
      "follow": null,
      "msg_id": null,
      "outputs": [],
      "received": null,
      "started": null,
      "status": null,
      "stderr": "",
      "stdout": "",
      "submitted": "2025-05-13T14:07:59.908996Z"
     },
     "output_type": "display_data"
    },
    {
     "data": {
      "text/plain": [
       "\u001b[0;31mOut[1:31]: \u001b[0m\n",
       "tensor([[2, 4, 3],\n",
       "        [2, 4, 3],\n",
       "        [2, 4, 3],\n",
       "        [1, 4, 3]])"
      ]
     },
     "metadata": {
      "after": null,
      "completed": null,
      "data": {},
      "engine_id": 1,
      "engine_uuid": "17d049f8-d76118014219b1233628f073",
      "error": null,
      "execute_input": "lshape_map = a.lshape_map\nlshape_map\n",
      "execute_result": {
       "data": {
        "text/plain": "tensor([[2, 4, 3],\n        [2, 4, 3],\n        [2, 4, 3],\n        [1, 4, 3]])"
       },
       "execution_count": 31,
       "metadata": {}
      },
      "follow": null,
      "msg_id": null,
      "outputs": [],
      "received": null,
      "started": null,
      "status": null,
      "stderr": "",
      "stdout": "",
      "submitted": "2025-05-13T14:07:59.909098Z"
     },
     "output_type": "display_data"
    },
    {
     "data": {
      "text/plain": [
       "\u001b[0;31mOut[2:31]: \u001b[0m\n",
       "tensor([[2, 4, 3],\n",
       "        [2, 4, 3],\n",
       "        [2, 4, 3],\n",
       "        [1, 4, 3]])"
      ]
     },
     "metadata": {
      "after": null,
      "completed": null,
      "data": {},
      "engine_id": 2,
      "engine_uuid": "09ecac9d-c570b181f02374fce3cd9436",
      "error": null,
      "execute_input": "lshape_map = a.lshape_map\nlshape_map\n",
      "execute_result": {
       "data": {
        "text/plain": "tensor([[2, 4, 3],\n        [2, 4, 3],\n        [2, 4, 3],\n        [1, 4, 3]])"
       },
       "execution_count": 31,
       "metadata": {}
      },
      "follow": null,
      "msg_id": null,
      "outputs": [],
      "received": null,
      "started": null,
      "status": null,
      "stderr": "",
      "stdout": "",
      "submitted": "2025-05-13T14:07:59.909230Z"
     },
     "output_type": "display_data"
    },
    {
     "data": {
      "text/plain": [
       "\u001b[0;31mOut[3:31]: \u001b[0m\n",
       "tensor([[2, 4, 3],\n",
       "        [2, 4, 3],\n",
       "        [2, 4, 3],\n",
       "        [1, 4, 3]])"
      ]
     },
     "metadata": {
      "after": null,
      "completed": null,
      "data": {},
      "engine_id": 3,
      "engine_uuid": "32fca69b-1268e1bcf75370a03e00963a",
      "error": null,
      "execute_input": "lshape_map = a.lshape_map\nlshape_map\n",
      "execute_result": {
       "data": {
        "text/plain": "tensor([[2, 4, 3],\n        [2, 4, 3],\n        [2, 4, 3],\n        [1, 4, 3]])"
       },
       "execution_count": 31,
       "metadata": {}
      },
      "follow": null,
      "msg_id": null,
      "outputs": [],
      "received": null,
      "started": null,
      "status": null,
      "stderr": "",
      "stdout": "",
      "submitted": "2025-05-13T14:07:59.909284Z"
     },
     "output_type": "display_data"
    }
   ],
   "source": [
    "%%px\n",
    "lshape_map = a.lshape_map\n",
    "lshape_map"
   ]
  },
  {
   "cell_type": "markdown",
   "metadata": {},
   "source": [
    "Go back to where we created the DNDarray and and create `a` with a different split axis. See how the `lshape_map` changes."
   ]
  },
  {
   "cell_type": "markdown",
   "metadata": {},
   "source": [
    "### Modifying the DNDarray distribution\n",
    "\n",
    "In a distributed pipeline, it is sometimes necessary to change the distribution of a DNDarray, when the array is not distributed in the most convenient way for the next operation / algorithm.\n",
    "\n",
    "Depending on your needs, you can choose between:\n",
    "- `DNDarray.redistribute_()`: This method keeps the original split axis, but redistributes the data of the DNDarray according to a \"target map\".\n",
    "- `DNDarray.resplit_()`: This method changes the split axis of the DNDarray. This is a more expensive operation, and should be used only when absolutely necessary. Depending on your needs and available resources, in some cases it might be wiser to keep a copy of the DNDarray with a different split axis.\n",
    "\n",
    "Let's see some examples."
   ]
  },
  {
   "cell_type": "code",
   "execution_count": null,
   "metadata": {},
   "outputs": [
    {
     "data": {
      "text/plain": [
       "\u001b[0;31mOut[0:50]: \u001b[0m\n",
       "tensor([[1, 4, 3],\n",
       "        [2, 4, 3],\n",
       "        [2, 4, 3],\n",
       "        [2, 4, 3]])"
      ]
     },
     "metadata": {
      "after": null,
      "completed": null,
      "data": {},
      "engine_id": 0,
      "engine_uuid": "543fa706-d4b8193b78e0d95e06ec1961",
      "error": null,
      "execute_input": "#redistribute\ntarget_map = a.lshape_map\ntarget_map[:, a.split] = torch.tensor([1, 2, 2, 2])\n# in-place redistribution (see ht.redistribute for out-of-place)\na.redistribute_(target_map=target_map)\n\n# new lshape map after redistribution\na.lshape_map\n",
      "execute_result": {
       "data": {
        "text/plain": "tensor([[1, 4, 3],\n        [2, 4, 3],\n        [2, 4, 3],\n        [2, 4, 3]])"
       },
       "execution_count": 50,
       "metadata": {}
      },
      "follow": null,
      "msg_id": null,
      "outputs": [],
      "received": null,
      "started": null,
      "status": null,
      "stderr": "",
      "stdout": "",
      "submitted": "2025-05-13T14:07:59.920286Z"
     },
     "output_type": "display_data"
    },
    {
     "data": {
      "text/plain": [
       "\u001b[0;31mOut[1:32]: \u001b[0m\n",
       "tensor([[1, 4, 3],\n",
       "        [2, 4, 3],\n",
       "        [2, 4, 3],\n",
       "        [2, 4, 3]])"
      ]
     },
     "metadata": {
      "after": null,
      "completed": null,
      "data": {},
      "engine_id": 1,
      "engine_uuid": "17d049f8-d76118014219b1233628f073",
      "error": null,
      "execute_input": "#redistribute\ntarget_map = a.lshape_map\ntarget_map[:, a.split] = torch.tensor([1, 2, 2, 2])\n# in-place redistribution (see ht.redistribute for out-of-place)\na.redistribute_(target_map=target_map)\n\n# new lshape map after redistribution\na.lshape_map\n",
      "execute_result": {
       "data": {
        "text/plain": "tensor([[1, 4, 3],\n        [2, 4, 3],\n        [2, 4, 3],\n        [2, 4, 3]])"
       },
       "execution_count": 32,
       "metadata": {}
      },
      "follow": null,
      "msg_id": null,
      "outputs": [],
      "received": null,
      "started": null,
      "status": null,
      "stderr": "",
      "stdout": "",
      "submitted": "2025-05-13T14:07:59.920432Z"
     },
     "output_type": "display_data"
    },
    {
     "data": {
      "text/plain": [
       "\u001b[0;31mOut[3:32]: \u001b[0m\n",
       "tensor([[1, 4, 3],\n",
       "        [2, 4, 3],\n",
       "        [2, 4, 3],\n",
       "        [2, 4, 3]])"
      ]
     },
     "metadata": {
      "after": null,
      "completed": null,
      "data": {},
      "engine_id": 3,
      "engine_uuid": "32fca69b-1268e1bcf75370a03e00963a",
      "error": null,
      "execute_input": "#redistribute\ntarget_map = a.lshape_map\ntarget_map[:, a.split] = torch.tensor([1, 2, 2, 2])\n# in-place redistribution (see ht.redistribute for out-of-place)\na.redistribute_(target_map=target_map)\n\n# new lshape map after redistribution\na.lshape_map\n",
      "execute_result": {
       "data": {
        "text/plain": "tensor([[1, 4, 3],\n        [2, 4, 3],\n        [2, 4, 3],\n        [2, 4, 3]])"
       },
       "execution_count": 32,
       "metadata": {}
      },
      "follow": null,
      "msg_id": null,
      "outputs": [],
      "received": null,
      "started": null,
      "status": null,
      "stderr": "",
      "stdout": "",
      "submitted": "2025-05-13T14:07:59.920538Z"
     },
     "output_type": "display_data"
    },
    {
     "data": {
      "text/plain": [
       "\u001b[0;31mOut[2:32]: \u001b[0m\n",
       "tensor([[1, 4, 3],\n",
       "        [2, 4, 3],\n",
       "        [2, 4, 3],\n",
       "        [2, 4, 3]])"
      ]
     },
     "metadata": {
      "after": null,
      "completed": null,
      "data": {},
      "engine_id": 2,
      "engine_uuid": "09ecac9d-c570b181f02374fce3cd9436",
      "error": null,
      "execute_input": "#redistribute\ntarget_map = a.lshape_map\ntarget_map[:, a.split] = torch.tensor([1, 2, 2, 2])\n# in-place redistribution (see ht.redistribute for out-of-place)\na.redistribute_(target_map=target_map)\n\n# new lshape map after redistribution\na.lshape_map\n",
      "execute_result": {
       "data": {
        "text/plain": "tensor([[1, 4, 3],\n        [2, 4, 3],\n        [2, 4, 3],\n        [2, 4, 3]])"
       },
       "execution_count": 32,
       "metadata": {}
      },
      "follow": null,
      "msg_id": null,
      "outputs": [],
      "received": null,
      "started": null,
      "status": null,
      "stderr": "",
      "stdout": "",
      "submitted": "2025-05-13T14:07:59.920490Z"
     },
     "output_type": "display_data"
    }
   ],
   "source": [
    "%%px\n",
    "#redistribute\n",
    "target_map = a.lshape_map\n",
    "target_map[:, a.split] = torch.tensor([1, 2, 2, 2])\n",
    "# in-place redistribution (see ht.redistribute for out-of-place)\n",
    "a.redistribute_(target_map=target_map)\n",
    "\n",
    "# new lshape map after redistribution\n",
    "a.lshape_map"
   ]
  },
  {
   "cell_type": "code",
   "execution_count": null,
   "metadata": {},
   "outputs": [
    {
     "data": {
      "text/plain": [
       "\u001b[0;31mOut[0:51]: \u001b[0m\n",
       "tensor([[[-1.4917,  1.0402, -0.7825],\n",
       "         [ 1.1449,  0.2454,  0.0296],\n",
       "         [-0.9608, -0.3706,  0.1326],\n",
       "         [-1.7428, -1.2740, -1.2992]]])"
      ]
     },
     "metadata": {
      "after": null,
      "completed": null,
      "data": {},
      "engine_id": 0,
      "engine_uuid": "543fa706-d4b8193b78e0d95e06ec1961",
      "error": null,
      "execute_input": "# local arrays after redistribution\na.larray\n",
      "execute_result": {
       "data": {
        "text/plain": "tensor([[[-1.4917,  1.0402, -0.7825],\n         [ 1.1449,  0.2454,  0.0296],\n         [-0.9608, -0.3706,  0.1326],\n         [-1.7428, -1.2740, -1.2992]]])"
       },
       "execution_count": 51,
       "metadata": {}
      },
      "follow": null,
      "msg_id": null,
      "outputs": [],
      "received": null,
      "started": null,
      "status": null,
      "stderr": "",
      "stdout": "",
      "submitted": "2025-05-13T14:07:59.931093Z"
     },
     "output_type": "display_data"
    },
    {
     "data": {
      "text/plain": [
       "\u001b[0;31mOut[1:33]: \u001b[0m\n",
       "tensor([[[ 0.3487,  1.2590,  1.3837],\n",
       "         [ 0.2175, -0.4930,  0.1332],\n",
       "         [ 1.4969, -1.1615,  1.1286],\n",
       "         [-0.0303,  1.1402, -1.0461]],\n",
       "\n",
       "        [[ 0.5362,  0.5303, -2.2911],\n",
       "         [ 0.3172, -0.8143, -0.6974],\n",
       "         [ 1.2608,  1.4052, -0.6631],\n",
       "         [-0.5072, -0.7000,  0.0114]]])"
      ]
     },
     "metadata": {
      "after": null,
      "completed": null,
      "data": {},
      "engine_id": 1,
      "engine_uuid": "17d049f8-d76118014219b1233628f073",
      "error": null,
      "execute_input": "# local arrays after redistribution\na.larray\n",
      "execute_result": {
       "data": {
        "text/plain": "tensor([[[ 0.3487,  1.2590,  1.3837],\n         [ 0.2175, -0.4930,  0.1332],\n         [ 1.4969, -1.1615,  1.1286],\n         [-0.0303,  1.1402, -1.0461]],\n\n        [[ 0.5362,  0.5303, -2.2911],\n         [ 0.3172, -0.8143, -0.6974],\n         [ 1.2608,  1.4052, -0.6631],\n         [-0.5072, -0.7000,  0.0114]]])"
       },
       "execution_count": 33,
       "metadata": {}
      },
      "follow": null,
      "msg_id": null,
      "outputs": [],
      "received": null,
      "started": null,
      "status": null,
      "stderr": "",
      "stdout": "",
      "submitted": "2025-05-13T14:07:59.931213Z"
     },
     "output_type": "display_data"
    },
    {
     "data": {
      "text/plain": [
       "\u001b[0;31mOut[2:33]: \u001b[0m\n",
       "tensor([[[-0.3539,  0.2979, -1.1608],\n",
       "         [ 1.3564,  2.6894,  1.1256],\n",
       "         [-0.1488,  1.3288, -0.6823],\n",
       "         [-0.3103, -0.8204, -1.0847]],\n",
       "\n",
       "        [[-0.1452,  0.8583,  1.7018],\n",
       "         [ 0.6301,  2.1221,  0.1344],\n",
       "         [-1.0956, -0.9775,  0.3393],\n",
       "         [-1.0035,  0.9591,  0.1953]]])"
      ]
     },
     "metadata": {
      "after": null,
      "completed": null,
      "data": {},
      "engine_id": 2,
      "engine_uuid": "09ecac9d-c570b181f02374fce3cd9436",
      "error": null,
      "execute_input": "# local arrays after redistribution\na.larray\n",
      "execute_result": {
       "data": {
        "text/plain": "tensor([[[-0.3539,  0.2979, -1.1608],\n         [ 1.3564,  2.6894,  1.1256],\n         [-0.1488,  1.3288, -0.6823],\n         [-0.3103, -0.8204, -1.0847]],\n\n        [[-0.1452,  0.8583,  1.7018],\n         [ 0.6301,  2.1221,  0.1344],\n         [-1.0956, -0.9775,  0.3393],\n         [-1.0035,  0.9591,  0.1953]]])"
       },
       "execution_count": 33,
       "metadata": {}
      },
      "follow": null,
      "msg_id": null,
      "outputs": [],
      "received": null,
      "started": null,
      "status": null,
      "stderr": "",
      "stdout": "",
      "submitted": "2025-05-13T14:07:59.931265Z"
     },
     "output_type": "display_data"
    },
    {
     "data": {
      "text/plain": [
       "\u001b[0;31mOut[3:33]: \u001b[0m\n",
       "tensor([[[ 0.5731,  0.8154,  0.0999],\n",
       "         [-2.8075, -0.6714,  0.1247],\n",
       "         [ 1.1858,  0.1801, -0.5439],\n",
       "         [ 0.0730, -0.7970, -0.6459]],\n",
       "\n",
       "        [[ 0.5269, -0.2324, -0.7096],\n",
       "         [-0.5554,  0.4843,  1.9347],\n",
       "         [-0.8777,  0.1920,  0.1426],\n",
       "         [ 1.6257, -0.7710, -0.0577]]])"
      ]
     },
     "metadata": {
      "after": null,
      "completed": null,
      "data": {},
      "engine_id": 3,
      "engine_uuid": "32fca69b-1268e1bcf75370a03e00963a",
      "error": null,
      "execute_input": "# local arrays after redistribution\na.larray\n",
      "execute_result": {
       "data": {
        "text/plain": "tensor([[[ 0.5731,  0.8154,  0.0999],\n         [-2.8075, -0.6714,  0.1247],\n         [ 1.1858,  0.1801, -0.5439],\n         [ 0.0730, -0.7970, -0.6459]],\n\n        [[ 0.5269, -0.2324, -0.7096],\n         [-0.5554,  0.4843,  1.9347],\n         [-0.8777,  0.1920,  0.1426],\n         [ 1.6257, -0.7710, -0.0577]]])"
       },
       "execution_count": 33,
       "metadata": {}
      },
      "follow": null,
      "msg_id": null,
      "outputs": [],
      "received": null,
      "started": null,
      "status": null,
      "stderr": "",
      "stdout": "",
      "submitted": "2025-05-13T14:07:59.931313Z"
     },
     "output_type": "display_data"
    }
   ],
   "source": [
    "%%px\n",
    "# local arrays after redistribution\n",
    "a.larray"
   ]
  },
  {
   "cell_type": "code",
   "execution_count": null,
   "metadata": {},
   "outputs": [
    {
     "data": {
      "text/plain": [
       "\u001b[0;31mOut[3:34]: \u001b[0m\n",
       "tensor([[7, 1, 3],\n",
       "        [7, 1, 3],\n",
       "        [7, 1, 3],\n",
       "        [7, 1, 3]])"
      ]
     },
     "metadata": {
      "after": null,
      "completed": null,
      "data": {},
      "engine_id": 3,
      "engine_uuid": "32fca69b-1268e1bcf75370a03e00963a",
      "error": null,
      "execute_input": "# resplit\na.resplit_(axis=1)\n\na.lshape_map\n",
      "execute_result": {
       "data": {
        "text/plain": "tensor([[7, 1, 3],\n        [7, 1, 3],\n        [7, 1, 3],\n        [7, 1, 3]])"
       },
       "execution_count": 34,
       "metadata": {}
      },
      "follow": null,
      "msg_id": null,
      "outputs": [],
      "received": null,
      "started": null,
      "status": null,
      "stderr": "",
      "stdout": "",
      "submitted": "2025-05-13T14:07:59.941374Z"
     },
     "output_type": "display_data"
    },
    {
     "data": {
      "text/plain": [
       "\u001b[0;31mOut[2:34]: \u001b[0m\n",
       "tensor([[7, 1, 3],\n",
       "        [7, 1, 3],\n",
       "        [7, 1, 3],\n",
       "        [7, 1, 3]])"
      ]
     },
     "metadata": {
      "after": null,
      "completed": null,
      "data": {},
      "engine_id": 2,
      "engine_uuid": "09ecac9d-c570b181f02374fce3cd9436",
      "error": null,
      "execute_input": "# resplit\na.resplit_(axis=1)\n\na.lshape_map\n",
      "execute_result": {
       "data": {
        "text/plain": "tensor([[7, 1, 3],\n        [7, 1, 3],\n        [7, 1, 3],\n        [7, 1, 3]])"
       },
       "execution_count": 34,
       "metadata": {}
      },
      "follow": null,
      "msg_id": null,
      "outputs": [],
      "received": null,
      "started": null,
      "status": null,
      "stderr": "",
      "stdout": "",
      "submitted": "2025-05-13T14:07:59.941324Z"
     },
     "output_type": "display_data"
    },
    {
     "data": {
      "text/plain": [
       "\u001b[0;31mOut[1:34]: \u001b[0m\n",
       "tensor([[7, 1, 3],\n",
       "        [7, 1, 3],\n",
       "        [7, 1, 3],\n",
       "        [7, 1, 3]])"
      ]
     },
     "metadata": {
      "after": [],
      "completed": "2025-05-13T14:07:59.944812Z",
      "data": {},
      "engine_id": 1,
      "engine_uuid": "17d049f8-d76118014219b1233628f073",
      "error": null,
      "execute_input": "# resplit\na.resplit_(axis=1)\n\na.lshape_map\n",
      "execute_result": {
       "data": {
        "text/plain": "tensor([[7, 1, 3],\n        [7, 1, 3],\n        [7, 1, 3],\n        [7, 1, 3]])"
       },
       "execution_count": 34,
       "metadata": {}
      },
      "follow": [],
      "is_broadcast": false,
      "is_coalescing": false,
      "msg_id": "6f76689f-900eb05e7d9ecac93e39ec8b_3527308_26",
      "outputs": [],
      "received": "2025-05-13T14:07:59.946188Z",
      "started": "2025-05-13T14:07:59.942184Z",
      "status": "ok",
      "stderr": "",
      "stdout": "",
      "submitted": "2025-05-13T14:07:59.941230Z"
     },
     "output_type": "display_data"
    },
    {
     "data": {
      "text/plain": [
       "\u001b[0;31mOut[0:52]: \u001b[0m\n",
       "tensor([[7, 1, 3],\n",
       "        [7, 1, 3],\n",
       "        [7, 1, 3],\n",
       "        [7, 1, 3]])"
      ]
     },
     "metadata": {
      "after": null,
      "completed": null,
      "data": {},
      "engine_id": 0,
      "engine_uuid": "543fa706-d4b8193b78e0d95e06ec1961",
      "error": null,
      "execute_input": "# resplit\na.resplit_(axis=1)\n\na.lshape_map\n",
      "execute_result": {
       "data": {
        "text/plain": "tensor([[7, 1, 3],\n        [7, 1, 3],\n        [7, 1, 3],\n        [7, 1, 3]])"
       },
       "execution_count": 52,
       "metadata": {}
      },
      "follow": null,
      "msg_id": null,
      "outputs": [],
      "received": null,
      "started": null,
      "status": null,
      "stderr": "",
      "stdout": "",
      "submitted": "2025-05-13T14:07:59.940806Z"
     },
     "output_type": "display_data"
    }
   ],
   "source": [
    "%%px\n",
    "# resplit\n",
    "a.resplit_(axis=1)\n",
    "\n",
    "a.lshape_map"
   ]
  },
  {
   "cell_type": "markdown",
   "metadata": {},
   "source": [
    "You can use the `resplit_` method (in-place), or `ht.resplit` (out-of-place) to change the distribution axis, but also to set the distribution axis to None. The latter corresponds to an MPI.Allgather operation that gathers the entire array on each process. This is useful when you've achieved a small enough data size that can be processed on a single device, and you want to avoid communication overhead."
   ]
  },
  {
   "cell_type": "code",
   "execution_count": null,
   "metadata": {},
   "outputs": [
    {
     "data": {
      "text/plain": []
     },
     "metadata": {
      "after": null,
      "completed": null,
      "data": {},
      "engine_id": 1,
      "engine_uuid": "17d049f8-d76118014219b1233628f073",
      "error": null,
      "execute_input": "# \"un-split\" distributed array\na.resplit_(axis=None)\n# each process now holds a copy of the entire array\n",
      "execute_result": {
       "data": {
        "text/plain": ""
       },
       "execution_count": 35,
       "metadata": {}
      },
      "follow": null,
      "msg_id": null,
      "outputs": [],
      "received": null,
      "started": null,
      "status": null,
      "stderr": "",
      "stdout": "",
      "submitted": "2025-05-13T14:07:59.952224Z"
     },
     "output_type": "display_data"
    },
    {
     "data": {
      "text/plain": []
     },
     "metadata": {
      "after": null,
      "completed": null,
      "data": {},
      "engine_id": 2,
      "engine_uuid": "09ecac9d-c570b181f02374fce3cd9436",
      "error": null,
      "execute_input": "# \"un-split\" distributed array\na.resplit_(axis=None)\n# each process now holds a copy of the entire array\n",
      "execute_result": {
       "data": {
        "text/plain": ""
       },
       "execution_count": 35,
       "metadata": {}
      },
      "follow": null,
      "msg_id": null,
      "outputs": [],
      "received": null,
      "started": null,
      "status": null,
      "stderr": "",
      "stdout": "",
      "submitted": "2025-05-13T14:07:59.952273Z"
     },
     "output_type": "display_data"
    },
    {
     "data": {
      "text/plain": []
     },
     "metadata": {
      "after": null,
      "completed": null,
      "data": {},
      "engine_id": 3,
      "engine_uuid": "32fca69b-1268e1bcf75370a03e00963a",
      "error": null,
      "execute_input": "# \"un-split\" distributed array\na.resplit_(axis=None)\n# each process now holds a copy of the entire array\n",
      "execute_result": {
       "data": {
        "text/plain": ""
       },
       "execution_count": 35,
       "metadata": {}
      },
      "follow": null,
      "msg_id": null,
      "outputs": [],
      "received": null,
      "started": null,
      "status": null,
      "stderr": "",
      "stdout": "",
      "submitted": "2025-05-13T14:07:59.952318Z"
     },
     "output_type": "display_data"
    },
    {
     "data": {
      "text/plain": [
       "\u001b[0;31mOut[0:53]: \u001b[0m\n",
       "DNDarray([[[-1.4917,  1.0402, -0.7825],\n",
       "           [ 1.1449,  0.2454,  0.0296],\n",
       "           [-0.9608, -0.3706,  0.1326],\n",
       "           [-1.7428, -1.2740, -1.2992]],\n",
       "\n",
       "          [[ 0.3487,  1.2590,  1.3837],\n",
       "           [ 0.2175, -0.4930,  0.1332],\n",
       "           [ 1.4969, -1.1615,  1.1286],\n",
       "           [-0.0303,  1.1402, -1.0461]],\n",
       "\n",
       "          [[ 0.5362,  0.5303, -2.2911],\n",
       "           [ 0.3172, -0.8143, -0.6974],\n",
       "           [ 1.2608,  1.4052, -0.6631],\n",
       "           [-0.5072, -0.7000,  0.0114]],\n",
       "\n",
       "          [[-0.3539,  0.2979, -1.1608],\n",
       "           [ 1.3564,  2.6894,  1.1256],\n",
       "           [-0.1488,  1.3288, -0.6823],\n",
       "           [-0.3103, -0.8204, -1.0847]],\n",
       "\n",
       "          [[-0.1452,  0.8583,  1.7018],\n",
       "           [ 0.6301,  2.1221,  0.1344],\n",
       "           [-1.0956, -0.9775,  0.3393],\n",
       "           [-1.0035,  0.9591,  0.1953]],\n",
       "\n",
       "          [[ 0.5731,  0.8154,  0.0999],\n",
       "           [-2.8075, -0.6714,  0.1247],\n",
       "           [ 1.1858,  0.1801, -0.5439],\n",
       "           [ 0.0730, -0.7970, -0.6459]],\n",
       "\n",
       "          [[ 0.5269, -0.2324, -0.7096],\n",
       "           [-0.5554,  0.4843,  1.9347],\n",
       "           [-0.8777,  0.1920,  0.1426],\n",
       "           [ 1.6257, -0.7710, -0.0577]]], dtype=ht.float32, device=cpu:0, split=None)"
      ]
     },
     "metadata": {
      "after": null,
      "completed": null,
      "data": {},
      "engine_id": 0,
      "engine_uuid": "543fa706-d4b8193b78e0d95e06ec1961",
      "error": null,
      "execute_input": "# \"un-split\" distributed array\na.resplit_(axis=None)\n# each process now holds a copy of the entire array\n",
      "execute_result": {
       "data": {
        "text/plain": "DNDarray([[[-1.4917,  1.0402, -0.7825],\n           [ 1.1449,  0.2454,  0.0296],\n           [-0.9608, -0.3706,  0.1326],\n           [-1.7428, -1.2740, -1.2992]],\n\n          [[ 0.3487,  1.2590,  1.3837],\n           [ 0.2175, -0.4930,  0.1332],\n           [ 1.4969, -1.1615,  1.1286],\n           [-0.0303,  1.1402, -1.0461]],\n\n          [[ 0.5362,  0.5303, -2.2911],\n           [ 0.3172, -0.8143, -0.6974],\n           [ 1.2608,  1.4052, -0.6631],\n           [-0.5072, -0.7000,  0.0114]],\n\n          [[-0.3539,  0.2979, -1.1608],\n           [ 1.3564,  2.6894,  1.1256],\n           [-0.1488,  1.3288, -0.6823],\n           [-0.3103, -0.8204, -1.0847]],\n\n          [[-0.1452,  0.8583,  1.7018],\n           [ 0.6301,  2.1221,  0.1344],\n           [-1.0956, -0.9775,  0.3393],\n           [-1.0035,  0.9591,  0.1953]],\n\n          [[ 0.5731,  0.8154,  0.0999],\n           [-2.8075, -0.6714,  0.1247],\n           [ 1.1858,  0.1801, -0.5439],\n           [ 0.0730, -0.7970, -0.6459]],\n\n          [[ 0.5269, -0.2324, -0.7096],\n           [-0.5554,  0.4843,  1.9347],\n           [-0.8777,  0.1920,  0.1426],\n           [ 1.6257, -0.7710, -0.0577]]], dtype=ht.float32, device=cpu:0, split=None)"
       },
       "execution_count": 53,
       "metadata": {}
      },
      "follow": null,
      "msg_id": null,
      "outputs": [],
      "received": null,
      "started": null,
      "status": null,
      "stderr": "",
      "stdout": "",
      "submitted": "2025-05-13T14:07:59.952096Z"
     },
     "output_type": "display_data"
    }
   ],
   "source": [
    "%%px\n",
    "# \"un-split\" distributed array\n",
    "a.resplit_(axis=None)\n",
    "# each process now holds a copy of the entire array"
   ]
  },
  {
   "cell_type": "markdown",
   "metadata": {},
   "source": [
    "The opposite is not true, i.e. you cannot use `resplit_` to distribute an array with split=None. In that case, you must use the `ht.array()` factory function:"
   ]
  },
  {
   "cell_type": "code",
   "execution_count": null,
   "metadata": {},
   "outputs": [],
   "source": [
    "%%px\n",
    "# make `a` split again\n",
    "a = ht.array(a, split=0)"
   ]
  },
  {
   "cell_type": "markdown",
   "metadata": {},
   "source": [
    "### Making disjoint data into a global DNDarray\n",
    "\n",
    "Another common occurrence in a data-parallel pipeline: you have addressed the embarassingly-parallel part of your algorithm with any array framework, each process working independently from the others. You now want to perform a non-embarassingly-parallel operation on the entire dataset, with Heat as a backend.\n",
    "\n",
    "You can use the `ht.array` factory function with the `is_split` argument to create a DNDarray from a disjoint (on each MPI process) set of arrays. The `is_split` argument indicates the axis along which the disjoint data is to be \"joined\" into a global, distributed DNDarray."
   ]
  },
  {
   "cell_type": "code",
   "execution_count": null,
   "metadata": {},
   "outputs": [
    {
     "data": {
      "text/plain": [
       "\u001b[0;31mOut[2:37]: \u001b[0m(12, 4)"
      ]
     },
     "metadata": {
      "after": null,
      "completed": null,
      "data": {},
      "engine_id": 2,
      "engine_uuid": "09ecac9d-c570b181f02374fce3cd9436",
      "error": null,
      "execute_input": "# create some random local arrays on each process\nimport numpy as np\nlocal_array = np.random.rand(3, 4)\n\n# join them into a distributed array\na_0 = ht.array(local_array, is_split=0)\na_0.shape\n",
      "execute_result": {
       "data": {
        "text/plain": "(12, 4)"
       },
       "execution_count": 37,
       "metadata": {}
      },
      "follow": null,
      "msg_id": null,
      "outputs": [],
      "received": null,
      "started": null,
      "status": null,
      "stderr": "",
      "stdout": "",
      "submitted": "2025-05-13T14:07:59.968812Z"
     },
     "output_type": "display_data"
    },
    {
     "data": {
      "text/plain": [
       "\u001b[0;31mOut[3:37]: \u001b[0m(12, 4)"
      ]
     },
     "metadata": {
      "after": null,
      "completed": null,
      "data": {},
      "engine_id": 3,
      "engine_uuid": "32fca69b-1268e1bcf75370a03e00963a",
      "error": null,
      "execute_input": "# create some random local arrays on each process\nimport numpy as np\nlocal_array = np.random.rand(3, 4)\n\n# join them into a distributed array\na_0 = ht.array(local_array, is_split=0)\na_0.shape\n",
      "execute_result": {
       "data": {
        "text/plain": "(12, 4)"
       },
       "execution_count": 37,
       "metadata": {}
      },
      "follow": null,
      "msg_id": null,
      "outputs": [],
      "received": null,
      "started": null,
      "status": null,
      "stderr": "",
      "stdout": "",
      "submitted": "2025-05-13T14:07:59.968856Z"
     },
     "output_type": "display_data"
    },
    {
     "data": {
      "text/plain": [
       "\u001b[0;31mOut[1:37]: \u001b[0m(12, 4)"
      ]
     },
     "metadata": {
      "after": null,
      "completed": null,
      "data": {},
      "engine_id": 1,
      "engine_uuid": "17d049f8-d76118014219b1233628f073",
      "error": null,
      "execute_input": "# create some random local arrays on each process\nimport numpy as np\nlocal_array = np.random.rand(3, 4)\n\n# join them into a distributed array\na_0 = ht.array(local_array, is_split=0)\na_0.shape\n",
      "execute_result": {
       "data": {
        "text/plain": "(12, 4)"
       },
       "execution_count": 37,
       "metadata": {}
      },
      "follow": null,
      "msg_id": null,
      "outputs": [],
      "received": null,
      "started": null,
      "status": null,
      "stderr": "",
      "stdout": "",
      "submitted": "2025-05-13T14:07:59.968765Z"
     },
     "output_type": "display_data"
    },
    {
     "data": {
      "text/plain": [
       "\u001b[0;31mOut[0:55]: \u001b[0m(12, 4)"
      ]
     },
     "metadata": {
      "after": [],
      "completed": "2025-05-13T14:07:59.972204Z",
      "data": {},
      "engine_id": 0,
      "engine_uuid": "543fa706-d4b8193b78e0d95e06ec1961",
      "error": null,
      "execute_input": "# create some random local arrays on each process\nimport numpy as np\nlocal_array = np.random.rand(3, 4)\n\n# join them into a distributed array\na_0 = ht.array(local_array, is_split=0)\na_0.shape\n",
      "execute_result": {
       "data": {
        "text/plain": "(12, 4)"
       },
       "execution_count": 55,
       "metadata": {}
      },
      "follow": [],
      "is_broadcast": false,
      "is_coalescing": false,
      "msg_id": "6f76689f-900eb05e7d9ecac93e39ec8b_3527308_37",
      "outputs": [],
      "received": "2025-05-13T14:07:59.973570Z",
      "started": "2025-05-13T14:07:59.969854Z",
      "status": "ok",
      "stderr": "",
      "stdout": "",
      "submitted": "2025-05-13T14:07:59.968611Z"
     },
     "output_type": "display_data"
    }
   ],
   "source": [
    "%%px\n",
    "# create some random local arrays on each process\n",
    "import numpy as np\n",
    "local_array = np.random.rand(3, 4)\n",
    "\n",
    "# join them into a distributed array\n",
    "a_0 = ht.array(local_array, is_split=0)\n",
    "a_0.shape"
   ]
  },
  {
   "cell_type": "markdown",
   "metadata": {},
   "source": [
    "Change the cell above and join the arrays along a different axis. Note that the shapes of the local arrays must be consistent along the non-split axes. They can differ along the split axis."
   ]
  },
  {
   "cell_type": "markdown",
   "metadata": {},
   "source": [
    "The `ht.array` function takes any data object as an input that can be converted to a torch tensor. "
   ]
  },
  {
   "cell_type": "markdown",
   "metadata": {},
   "source": [
    "Once you've made your disjoint data into a DNDarray, you can apply any Heat operation or algorithm to it and exploit the cumulative RAM of all the processes in the communicator. "
   ]
  },
  {
   "cell_type": "markdown",
   "metadata": {},
   "source": [
    "You can access the MPI communication functionalities of the DNDarray through the `comm` attribute, i.e.:\n",
    "\n",
    "```python\n",
    "# these are just examples, this cell won't do anything\n",
    "a.comm.Allreduce(a, b, op=MPI.SUM)\n",
    "\n",
    "a.comm.Allgather(a, b)\n",
    "a.comm.Isend(a, dest=1, tag=0)\n",
    "```\n",
    "\n",
    "etc."
   ]
  },
  {
   "cell_type": "markdown",
   "metadata": {},
   "source": [
    "In the next notebooks, we'll show you how we use Heat's distributed-array infrastructure to scale complex data analysis workflows to large datasets and high-performance computing resources.\n",
    "\n",
    "- [Data loading and preprocessing](3_loading_preprocessing.ipynb)\n",
    "- [Matrix factorization algorithms](4_matrix_factorizations.ipynb)\n",
    "- [Clustering algorithms](5_clustering.ipynb)"
   ]
  }
 ],
 "metadata": {
  "kernelspec": {
   "display_name": "Python (heat_nb_env)",
   "language": "python",
   "name": "myenv"
  },
  "language_info": {
   "codemirror_mode": {
    "name": "ipython",
    "version": 3
   },
   "file_extension": ".py",
   "mimetype": "text/x-python",
   "name": "python",
   "nbconvert_exporter": "python",
   "pygments_lexer": "ipython3",
   "version": "3.11.2"
  }
 },
 "nbformat": 4,
 "nbformat_minor": 4
}
