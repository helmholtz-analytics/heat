{
 "cells": [
  {
   "cell_type": "markdown",
   "metadata": {},
   "source": [
    "# Running heat in parallel on a Jupyter Notebook"
   ]
  },
  {
   "cell_type": "markdown",
   "metadata": {},
   "source": [
    "The original version of this tutorial was inspired by the [CS228 tutorial](https://github.com/kuleshov/cs228-material/blob/master/tutorials/python/cs228-python-tutorial.ipynb) by Volodomyr Kuleshov and Isaac Caswell."
   ]
  },
  {
   "cell_type": "markdown",
   "metadata": {},
   "source": [
    "\n",
    "<div style=\"float: center; padding-right: 2em; padding-top: 2em;\">\n",
    "    <img src=\"https://raw.githubusercontent.com/helmholtz-analytics/heat/master/doc/images/logo.png\"></img>\n",
    "</div>\n",
    "\n",
    "## Installation\n",
    "\n",
    "### Anaconda\n",
    "\n",
    "This tutorial is designed to run on your local machine. Generally, to run Heat you need an [MPI](https://hpc-tutorials.llnl.gov/mpi/) installation, and a Python environment with PyTorch and mpi4py. The easiest way to set up such an environment is to install `heat` via conda: \n",
    "\n",
    "```shell\n",
    "conda create --name heat-env python=3.11\n",
    "conda activate heat-env\n",
    "conda install -c conda-forge heat xarray jupyter scikit-learn\n",
    "```\n",
    "\n",
    "### Pip\n",
    "\n",
    "#### OpenMPI\n",
    "\n",
    "Heat can also be installed with pip, but ```openmpi``` has to be available on the system. To install ```openmpi``` on linux/macos:\n",
    "\n",
    "```shell\n",
    "# Ubuntu\n",
    "$ sudo apt install openmpi-bin libopenmpi-dev\n",
    "\n",
    "# Arch\n",
    "$ sudo pacman -S openmpi\n",
    "\n",
    "# MacOS\n",
    "$ brew install openmpi\n",
    "```\n",
    "\n",
    "Or try other installing the binary. Instructions [here](https://docs.open-mpi.org/en/v5.0.x/installing-open-mpi/quickstart.html)\n",
    "\n",
    "Once ```openmpi``` is installed, confirm that the installation worked by running\n",
    "\n",
    "```console\n",
    "$ ompi_info\n",
    "```\n",
    "\n",
    "#### Heat\n",
    "\n",
    "Afterwards, you can create a virtual environment with pip, and install ```heat```.\n",
    "\n",
    "```console\n",
    "python -m venv heat-venv\n",
    "source heat-venv/bin/activate\n",
    "pip install heat[examples] xarray\n",
    "```"
   ]
  },
  {
   "cell_type": "markdown",
   "metadata": {},
   "source": [
    "## Setting up the IPyParallel environment\n",
    "\n",
    "In this tutorial, we want to demonstrate how Heat distributes arrays and operations across multiple MPI processes. We can do this interactively in a Jupyter Notebook using IPyParallel.\n",
    "\n",
    "\n",
    "Add your virtual environment to the Jupyter kernels:\n",
    "\n",
    "```bash\n",
    "python -m ipykernel install --user --name=heat-env\n",
    "```\n",
    "\n",
    "Start the Jupyter Notebook server:\n",
    "\n",
    "```bash\n",
    "jupyter notebook\n",
    "```\n",
    "\n",
    "Now you can select the `heat-env` kernel when creating a new notebook.\n",
    "\n",
    "Finally, you need to start an IPyParallel cluster to access multiple MPI processes. You can do this by running the following command in a terminal:\n",
    "\n",
    "```bash\n",
    "ipcluster start -n 4 --engines=mpi\n",
    "```\n",
    "\n",
    "This will start an IPyParallel cluster with 4 MPI processes. You can adjust the number of processes as needed."
   ]
  },
  {
   "cell_type": "markdown",
   "metadata": {},
   "source": [
    "For a great intro on `ipyparallel` usage on our supercomputers, check out Jan Meinke's tutorial [\"Interactive Parallel Computing with IPython Parallel\"](https://gitlab.jsc.fz-juelich.de/sdlbio-courses/hpc-python/-/blob/master/06_LocalParallel.ipynb) or the [ipyparallel docs](https://ipyparallel.readthedocs.io/en/latest/).\n",
    "\n",
    "Let's check the health of the available processes. "
   ]
  },
  {
   "cell_type": "code",
   "execution_count": null,
   "metadata": {
    "tags": []
   },
   "outputs": [],
   "source": [
    "from ipyparallel import Client\n",
    "rc = Client(profile=\"default\")"
   ]
  },
  {
   "cell_type": "markdown",
   "metadata": {},
   "source": [
    "Earlier, we have started an IPython cluster with 4 processes. We can now check if all 4 processes are available."
   ]
  },
  {
   "cell_type": "code",
   "execution_count": null,
   "metadata": {
    "tags": []
   },
   "outputs": [
    {
     "data": {
      "text/plain": [
       "[0, 1, 2, 3]"
      ]
     },
     "execution_count": null,
     "metadata": {},
     "output_type": "execute_result"
    }
   ],
   "source": [
    "rc.ids"
   ]
  },
  {
   "cell_type": "markdown",
   "metadata": {},
   "source": [
    "The `px` magic command allows you to execute Python commands or a Jupyter cell on the ipyparallel engines interactively ([%%px documentation](https://ipyparallel.readthedocs.io/en/latest/tutorial/magics.html))."
   ]
  },
  {
   "cell_type": "markdown",
   "metadata": {},
   "source": [
    "We can now finally import `heat` on our 4-process cluster."
   ]
  },
  {
   "cell_type": "code",
   "execution_count": null,
   "metadata": {
    "tags": []
   },
   "outputs": [
    {
     "data": {
      "application/vnd.jupyter.widget-view+json": {
       "model_id": "d51a2e5dfcad4264a317401c208b0f6d",
       "version_major": 2,
       "version_minor": 0
      },
      "text/plain": [
       "%px:   0%|          | 0/4 [00:00<?, ?tasks/s]"
      ]
     },
     "metadata": {},
     "output_type": "display_data"
    }
   ],
   "source": [
    "%px import heat as ht"
   ]
  }
 ],
 "metadata": {
  "kernelspec": {
   "display_name": "heat-dev-311",
   "language": "python",
   "name": "python3"
  },
  "language_info": {
   "codemirror_mode": {
    "name": "ipython",
    "version": 3
   },
   "file_extension": ".py",
   "mimetype": "text/x-python",
   "name": "python",
   "nbconvert_exporter": "python",
   "pygments_lexer": "ipython3",
   "version": "3.11.8"
  }
 },
 "nbformat": 4,
 "nbformat_minor": 4
}
