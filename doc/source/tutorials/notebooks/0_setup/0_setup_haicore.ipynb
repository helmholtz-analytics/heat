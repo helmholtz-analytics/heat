{
 "cells": [
  {
   "cell_type": "markdown",
   "metadata": {
    "editable": true,
    "slideshow": {
     "slide_type": ""
    },
    "tags": []
   },
   "source": [
    "# Setting up a parallel notebook with heat, SLURM, and ipyparallel on HAICORE/Horeka"
   ]
  },
  {
   "cell_type": "markdown",
   "metadata": {
    "editable": true,
    "slideshow": {
     "slide_type": ""
    },
    "tags": []
   },
   "source": [
    "The original version of this tutorial was inspired by the [CS228 tutorial](https://github.com/kuleshov/cs228-material/blob/master/tutorials/python/cs228-python-tutorial.ipynb) by Volodomyr Kuleshov and Isaac Caswell."
   ]
  },
  {
   "cell_type": "markdown",
   "metadata": {
    "editable": true,
    "slideshow": {
     "slide_type": ""
    },
    "tags": []
   },
   "source": [
    "\n",
    "\n",
    "\n",
    "## Introduction\n",
    "---\n",
    "<div class=\"alert alert-block alert-warning\">\n",
    "<b>Note:</b>\n",
    "This notebook expects that you will be working on the JupyterLab hosted in <a href=\"https://haicore-jupyter.scc.kit.edu/\">HAICORE</a>, at the Karlsruhe Institute of Technology.\n",
    "\n",
    "If you want to run the tutorial on your local machine, or on another systems, please refer to the <a href=\"../0_setup/0_setup_local.ipynb\">local setup notebook</a> in this repository for reference, or to our <a href=\"https://heat.readthedocs.io/en/stable/tutorial_notebook_gallery.html\">notebook gallery</a> for more examples.\n",
    "</div>\n",
    "\n",
    "<div style=\"float: right; padding-right: 2em; padding-top: 2em;\">\n",
    "    <img src=\"https://raw.githubusercontent.com/helmholtz-analytics/heat/master/doc/images/logo.png\"></img>\n",
    "</div>\n",
    "\n",
    "\n",
    "## Setting up the environment\n",
    "\n",
    "The rest of this tutorial assumes you have started a JupyterLab at [Jupyter for HAICORE](https://haicore-jupyter.scc.kit.edu/) with the following parameters:\n",
    "\n",
    "| **Resources**     |     |\n",
    "| ---               | --- |\n",
    "| Nodes             | 1   |\n",
    "| GPUs              | 4   |\n",
    "| Runtime (hours) | 4   |\n"
   ]
  },
  {
   "cell_type": "markdown",
   "metadata": {
    "editable": true,
    "slideshow": {
     "slide_type": ""
    },
    "tags": []
   },
   "source": [
    "### Resources\n",
    "\n",
    "We will be running the tutorial on the GPU partition of the [HAICORE](https://www.nhr.kit.edu/userdocs/haicore/hardware/) cluster, with the following hardware:\n",
    "\n",
    "- 2× Intel Xeon Platinum 8368, 2 × 38 cores\n",
    "- 4x NVIDIA A100-40\n"
   ]
  },
  {
   "cell_type": "markdown",
   "metadata": {
    "editable": true,
    "slideshow": {
     "slide_type": ""
    },
    "tags": []
   },
   "source": [
    "### Setup environment"
   ]
  },
  {
   "cell_type": "markdown",
   "metadata": {},
   "source": [
    "The first step is to load (and unload) the right modules on HAICORE+Jupyter. \n",
    "\n",
    "On the left bar on Jupyter Lab, open the modules tab, and make to unload any ```jupyter``` modules, and the load ```mpi/openmpi/4.1``` and ```devel/cuda/12.4```.\n",
    "\n",
    "Afterwards, run the cell below."
   ]
  },
  {
   "cell_type": "code",
   "execution_count": null,
   "metadata": {
    "editable": true,
    "slideshow": {
     "slide_type": ""
    },
    "tags": []
   },
   "outputs": [
    {
     "name": "stderr",
     "output_type": "stream",
     "text": [
      "\n",
      "Currently Loaded Modules:\n",
      "i/4.1dot                       3) numlib/mkl/2022.0.2       5) mpi/openmp\n",
      "  2) compiler/intel/2023.1.0   4) devel/cuda/12.4     (E)\n",
      "\n",
      "  Where:\n",
      "   E:  Experimental\n",
      "\n",
      " \n",
      "\n"
     ]
    },
    {
     "name": "stdout",
     "output_type": "stream",
     "text": [
      "Requirement already satisfied: heat in /home/scc/io3047/venvs/heat_nb_env/lib64/python3.11/site-packages (1.5.1)\n",
      "Requirement already satisfied: mpi4py>=3.0.0 in /home/scc/io3047/venvs/heat_nb_env/lib64/python3.11/site-packages (from heat) (4.0.3)\n",
      "Requirement already satisfied: numpy<2,>=1.22.0 in /home/scc/io3047/venvs/heat_nb_env/lib64/python3.11/site-packages (from heat) (1.26.4)\n",
      "Requirement already satisfied: torch<2.6.1,>=2.0.0 in /home/scc/io3047/venvs/heat_nb_env/lib64/python3.11/site-packages (from heat) (2.6.0)\n",
      "Requirement already satisfied: scipy>=1.10.0 in /home/scc/io3047/venvs/heat_nb_env/lib64/python3.11/site-packages (from heat) (1.15.3)\n",
      "Requirement already satisfied: pillow>=6.0.0 in /home/scc/io3047/venvs/heat_nb_env/lib64/python3.11/site-packages (from heat) (11.2.1)\n",
      "Requirement already satisfied: torchvision<0.21.1,>=0.15.2 in /home/scc/io3047/venvs/heat_nb_env/lib64/python3.11/site-packages (from heat) (0.21.0)\n",
      "Requirement already satisfied: filelock in /home/scc/io3047/venvs/heat_nb_env/lib64/python3.11/site-packages (from torch<2.6.1,>=2.0.0->heat) (3.18.0)\n",
      "Requirement already satisfied: typing-extensions>=4.10.0 in /home/scc/io3047/venvs/heat_nb_env/lib64/python3.11/site-packages (from torch<2.6.1,>=2.0.0->heat) (4.13.2)\n",
      "Requirement already satisfied: networkx in /home/scc/io3047/venvs/heat_nb_env/lib64/python3.11/site-packages (from torch<2.6.1,>=2.0.0->heat) (3.4.2)\n",
      "Requirement already satisfied: jinja2 in /home/scc/io3047/venvs/heat_nb_env/lib64/python3.11/site-packages (from torch<2.6.1,>=2.0.0->heat) (3.1.6)\n",
      "Requirement already satisfied: fsspec in /home/scc/io3047/venvs/heat_nb_env/lib64/python3.11/site-packages (from torch<2.6.1,>=2.0.0->heat) (2025.3.2)\n",
      "Requirement already satisfied: nvidia-cuda-nvrtc-cu12==12.4.127 in /home/scc/io3047/venvs/heat_nb_env/lib64/python3.11/site-packages (from torch<2.6.1,>=2.0.0->heat) (12.4.127)\n",
      "Requirement already satisfied: nvidia-cuda-runtime-cu12==12.4.127 in /home/scc/io3047/venvs/heat_nb_env/lib64/python3.11/site-packages (from torch<2.6.1,>=2.0.0->heat) (12.4.127)\n",
      "Requirement already satisfied: nvidia-cuda-cupti-cu12==12.4.127 in /home/scc/io3047/venvs/heat_nb_env/lib64/python3.11/site-packages (from torch<2.6.1,>=2.0.0->heat) (12.4.127)\n",
      "Requirement already satisfied: nvidia-cudnn-cu12==9.1.0.70 in /home/scc/io3047/venvs/heat_nb_env/lib64/python3.11/site-packages (from torch<2.6.1,>=2.0.0->heat) (9.1.0.70)\n",
      "Requirement already satisfied: nvidia-cublas-cu12==12.4.5.8 in /home/scc/io3047/venvs/heat_nb_env/lib64/python3.11/site-packages (from torch<2.6.1,>=2.0.0->heat) (12.4.5.8)\n",
      "Requirement already satisfied: nvidia-cufft-cu12==11.2.1.3 in /home/scc/io3047/venvs/heat_nb_env/lib64/python3.11/site-packages (from torch<2.6.1,>=2.0.0->heat) (11.2.1.3)\n",
      "Requirement already satisfied: nvidia-curand-cu12==10.3.5.147 in /home/scc/io3047/venvs/heat_nb_env/lib64/python3.11/site-packages (from torch<2.6.1,>=2.0.0->heat) (10.3.5.147)\n",
      "Requirement already satisfied: nvidia-cusolver-cu12==11.6.1.9 in /home/scc/io3047/venvs/heat_nb_env/lib64/python3.11/site-packages (from torch<2.6.1,>=2.0.0->heat) (11.6.1.9)\n",
      "Requirement already satisfied: nvidia-cusparse-cu12==12.3.1.170 in /home/scc/io3047/venvs/heat_nb_env/lib64/python3.11/site-packages (from torch<2.6.1,>=2.0.0->heat) (12.3.1.170)\n",
      "Requirement already satisfied: nvidia-cusparselt-cu12==0.6.2 in /home/scc/io3047/venvs/heat_nb_env/lib64/python3.11/site-packages (from torch<2.6.1,>=2.0.0->heat) (0.6.2)\n",
      "Requirement already satisfied: nvidia-nccl-cu12==2.21.5 in /home/scc/io3047/venvs/heat_nb_env/lib64/python3.11/site-packages (from torch<2.6.1,>=2.0.0->heat) (2.21.5)\n",
      "Requirement already satisfied: nvidia-nvtx-cu12==12.4.127 in /home/scc/io3047/venvs/heat_nb_env/lib64/python3.11/site-packages (from torch<2.6.1,>=2.0.0->heat) (12.4.127)\n",
      "Requirement already satisfied: nvidia-nvjitlink-cu12==12.4.127 in /home/scc/io3047/venvs/heat_nb_env/lib64/python3.11/site-packages (from torch<2.6.1,>=2.0.0->heat) (12.4.127)\n",
      "Requirement already satisfied: triton==3.2.0 in /home/scc/io3047/venvs/heat_nb_env/lib64/python3.11/site-packages (from torch<2.6.1,>=2.0.0->heat) (3.2.0)\n",
      "Requirement already satisfied: sympy==1.13.1 in /home/scc/io3047/venvs/heat_nb_env/lib64/python3.11/site-packages (from torch<2.6.1,>=2.0.0->heat) (1.13.1)\n",
      "Requirement already satisfied: mpmath<1.4,>=1.1.0 in /home/scc/io3047/venvs/heat_nb_env/lib64/python3.11/site-packages (from sympy==1.13.1->torch<2.6.1,>=2.0.0->heat) (1.3.0)\n",
      "Requirement already satisfied: MarkupSafe>=2.0 in /home/scc/io3047/venvs/heat_nb_env/lib64/python3.11/site-packages (from jinja2->torch<2.6.1,>=2.0.0->heat) (3.0.2)\n"
     ]
    },
    {
     "name": "stderr",
     "output_type": "stream",
     "text": [
      "WARNING: There was an error checking the latest version of pip.\n"
     ]
    },
    {
     "name": "stdout",
     "output_type": "stream",
     "text": [
      "Requirement already satisfied: ipyparallel in /home/scc/io3047/venvs/heat_nb_env/lib64/python3.11/site-packages (9.0.1)\n",
      "Requirement already satisfied: decorator in /home/scc/io3047/venvs/heat_nb_env/lib64/python3.11/site-packages (from ipyparallel) (5.2.1)\n",
      "Requirement already satisfied: ipykernel>=6.9.1 in /home/scc/io3047/venvs/heat_nb_env/lib64/python3.11/site-packages (from ipyparallel) (6.29.5)\n",
      "Requirement already satisfied: ipython>=5 in /home/scc/io3047/venvs/heat_nb_env/lib64/python3.11/site-packages (from ipyparallel) (9.2.0)\n",
      "Requirement already satisfied: jupyter-client>=7 in /home/scc/io3047/venvs/heat_nb_env/lib64/python3.11/site-packages (from ipyparallel) (8.6.3)\n",
      "Requirement already satisfied: psutil in /home/scc/io3047/venvs/heat_nb_env/lib64/python3.11/site-packages (from ipyparallel) (7.0.0)\n",
      "Requirement already satisfied: python-dateutil>=2.1 in /home/scc/io3047/venvs/heat_nb_env/lib64/python3.11/site-packages (from ipyparallel) (2.9.0.post0)\n",
      "Requirement already satisfied: pyzmq>=25 in /home/scc/io3047/venvs/heat_nb_env/lib64/python3.11/site-packages (from ipyparallel) (26.4.0)\n",
      "Requirement already satisfied: tornado>=6.1 in /home/scc/io3047/venvs/heat_nb_env/lib64/python3.11/site-packages (from ipyparallel) (6.4.2)\n",
      "Requirement already satisfied: tqdm in /home/scc/io3047/venvs/heat_nb_env/lib64/python3.11/site-packages (from ipyparallel) (4.67.1)\n",
      "Requirement already satisfied: traitlets>=5 in /home/scc/io3047/venvs/heat_nb_env/lib64/python3.11/site-packages (from ipyparallel) (5.14.3)\n",
      "Requirement already satisfied: comm>=0.1.1 in /home/scc/io3047/venvs/heat_nb_env/lib64/python3.11/site-packages (from ipykernel>=6.9.1->ipyparallel) (0.2.2)\n",
      "Requirement already satisfied: debugpy>=1.6.5 in /home/scc/io3047/venvs/heat_nb_env/lib64/python3.11/site-packages (from ipykernel>=6.9.1->ipyparallel) (1.8.14)\n",
      "Requirement already satisfied: jupyter-core!=5.0.*,>=4.12 in /home/scc/io3047/venvs/heat_nb_env/lib64/python3.11/site-packages (from ipykernel>=6.9.1->ipyparallel) (5.7.2)\n",
      "Requirement already satisfied: matplotlib-inline>=0.1 in /home/scc/io3047/venvs/heat_nb_env/lib64/python3.11/site-packages (from ipykernel>=6.9.1->ipyparallel) (0.1.7)\n",
      "Requirement already satisfied: nest-asyncio in /home/scc/io3047/venvs/heat_nb_env/lib64/python3.11/site-packages (from ipykernel>=6.9.1->ipyparallel) (1.6.0)\n",
      "Requirement already satisfied: packaging in /home/scc/io3047/venvs/heat_nb_env/lib64/python3.11/site-packages (from ipykernel>=6.9.1->ipyparallel) (25.0)\n",
      "Requirement already satisfied: ipython-pygments-lexers in /home/scc/io3047/venvs/heat_nb_env/lib64/python3.11/site-packages (from ipython>=5->ipyparallel) (1.1.1)\n",
      "Requirement already satisfied: jedi>=0.16 in /home/scc/io3047/venvs/heat_nb_env/lib64/python3.11/site-packages (from ipython>=5->ipyparallel) (0.19.2)\n",
      "Requirement already satisfied: pexpect>4.3 in /home/scc/io3047/venvs/heat_nb_env/lib64/python3.11/site-packages (from ipython>=5->ipyparallel) (4.9.0)\n",
      "Requirement already satisfied: prompt_toolkit<3.1.0,>=3.0.41 in /home/scc/io3047/venvs/heat_nb_env/lib64/python3.11/site-packages (from ipython>=5->ipyparallel) (3.0.51)\n",
      "Requirement already satisfied: pygments>=2.4.0 in /home/scc/io3047/venvs/heat_nb_env/lib64/python3.11/site-packages (from ipython>=5->ipyparallel) (2.19.1)\n",
      "Requirement already satisfied: stack_data in /home/scc/io3047/venvs/heat_nb_env/lib64/python3.11/site-packages (from ipython>=5->ipyparallel) (0.6.3)\n",
      "Requirement already satisfied: typing_extensions>=4.6 in /home/scc/io3047/venvs/heat_nb_env/lib64/python3.11/site-packages (from ipython>=5->ipyparallel) (4.13.2)\n",
      "Requirement already satisfied: six>=1.5 in /home/scc/io3047/venvs/heat_nb_env/lib64/python3.11/site-packages (from python-dateutil>=2.1->ipyparallel) (1.17.0)\n",
      "Requirement already satisfied: parso<0.9.0,>=0.8.4 in /home/scc/io3047/venvs/heat_nb_env/lib64/python3.11/site-packages (from jedi>=0.16->ipython>=5->ipyparallel) (0.8.4)\n",
      "Requirement already satisfied: platformdirs>=2.5 in /home/scc/io3047/venvs/heat_nb_env/lib64/python3.11/site-packages (from jupyter-core!=5.0.*,>=4.12->ipykernel>=6.9.1->ipyparallel) (4.3.8)\n",
      "Requirement already satisfied: ptyprocess>=0.5 in /home/scc/io3047/venvs/heat_nb_env/lib64/python3.11/site-packages (from pexpect>4.3->ipython>=5->ipyparallel) (0.7.0)\n",
      "Requirement already satisfied: wcwidth in /home/scc/io3047/venvs/heat_nb_env/lib64/python3.11/site-packages (from prompt_toolkit<3.1.0,>=3.0.41->ipython>=5->ipyparallel) (0.2.13)\n",
      "Requirement already satisfied: executing>=1.2.0 in /home/scc/io3047/venvs/heat_nb_env/lib64/python3.11/site-packages (from stack_data->ipython>=5->ipyparallel) (2.2.0)\n",
      "Requirement already satisfied: asttokens>=2.1.0 in /home/scc/io3047/venvs/heat_nb_env/lib64/python3.11/site-packages (from stack_data->ipython>=5->ipyparallel) (3.0.0)\n",
      "Requirement already satisfied: pure-eval in /home/scc/io3047/venvs/heat_nb_env/lib64/python3.11/site-packages (from stack_data->ipython>=5->ipyparallel) (0.2.3)\n"
     ]
    },
    {
     "name": "stderr",
     "output_type": "stream",
     "text": [
      "WARNING: There was an error checking the latest version of pip.\n"
     ]
    },
    {
     "name": "stdout",
     "output_type": "stream",
     "text": [
      "Installed kernelspec myEnv in /hkfs/home/haicore/scc/io3047/.local/share/jupyter/kernels/myenv\n"
     ]
    }
   ],
   "source": [
    "%%bash\n",
    "# Report modules\n",
    "ml list\n",
    "\n",
    "# Create a virtual environment\n",
    "python3.11 -m venv heat-env\n",
    "source heat-env/bin/activate\n",
    "pip install heat[hdf5] ipyparallel xarray matplotlib scikit-learn perun[nvidia]\n",
    "\n",
    "python -m ipykernel install \\\n",
    "      --user \\\n",
    "      --name heat-env \\\n",
    "      --display-name \"heat-env\"\n",
    "deactivate"
   ]
  },
  {
   "cell_type": "markdown",
   "metadata": {
    "editable": true,
    "slideshow": {
     "slide_type": ""
    },
    "tags": []
   },
   "source": [
    "To be able to run this tutorial interactively for parallel computing, we need to start an [IPython cluster](https://ipyparallel.readthedocs.io/en/latest/tutorial/process.html).\n",
    "\n",
    "\n",
    "In the terminal, type:\n",
    "\n",
    "```bash\n",
    "ipcluster start -n 4 --engines=MPI --MPILauncher.mpi_args=\"--oversubscribe\"\n",
    "```\n",
    "On your terminal, you should see something like this:\n",
    "\n",
    "```bash\n",
    "2024-03-04 16:30:24.740 [IPController] Registering 4 new hearts\n",
    "2024-03-04 16:30:24.740 [IPController] registration::finished registering engine 0:63ac2343-f1deab70b14c0e14ca4c1630 in 5672ms\n",
    "2024-03-04 16:30:24.740 [IPController] engine::Engine Connected: 0\n",
    "2024-03-04 16:30:24.744 [IPController] registration::finished registering engine 3:673ce83c-eb7ccae6c69c52382c8349c1 in 5397ms\n",
    "2024-03-04 16:30:24.744 [IPController] engine::Engine Connected: 3\n",
    "2024-03-04 16:30:24.745 [IPController] registration::finished registering engine 1:d7936040-5ab6c117b845850a3103b2e8 in 5627ms\n",
    "2024-03-04 16:30:24.745 [IPController] engine::Engine Connected: 1\n",
    "2024-03-04 16:30:24.745 [IPController] registration::finished registering engine 2:ca57a419-2f2c89914a6c17865103c3e7 in 5508ms\n",
    "2024-03-04 16:30:24.745 [IPController] engine::Engine Connected: 2\n",
    "```"
   ]
  },
  {
   "cell_type": "markdown",
   "metadata": {},
   "source": [
    "<div class=\"alert alert-block alert-info\">\n",
    "<b>Note:</b>\n",
    "You must now reload the kernel to be able to access the IPython cluster.\n",
    "</div>\n"
   ]
  },
  {
   "cell_type": "markdown",
   "metadata": {},
   "source": [
    "To be able to start working with Heat on an HPC cluster, we first need to check the health of the available processes. We will use `ipyparallel` for this. For a great intro on `ipyparallel` usage on our supercomputers, check out Jan Meinke's tutorial [\"Interactive Parallel Computing with IPython Parallel\"](https://gitlab.jsc.fz-juelich.de/sdlbio-courses/hpc-python/-/blob/master/06_LocalParallel.ipynb) or the [ipyparallel docs](https://ipyparallel.readthedocs.io/en/latest/)."
   ]
  },
  {
   "cell_type": "code",
   "execution_count": null,
   "metadata": {
    "tags": []
   },
   "outputs": [],
   "source": [
    "from ipyparallel import Client\n",
    "rc = Client(profile=\"default\")\n",
    "rc.wait_for_engines(4)"
   ]
  },
  {
   "cell_type": "markdown",
   "metadata": {},
   "source": [
    "Earlier, we have started an IPython cluster with 4 processes. We can now check if the processes are available."
   ]
  },
  {
   "cell_type": "code",
   "execution_count": null,
   "metadata": {
    "tags": []
   },
   "outputs": [
    {
     "data": {
      "text/plain": [
       "[0, 1, 2, 3]"
      ]
     },
     "execution_count": null,
     "metadata": {},
     "output_type": "execute_result"
    }
   ],
   "source": [
    "rc.ids"
   ]
  },
  {
   "cell_type": "markdown",
   "metadata": {},
   "source": [
    "The `px` magic command allows you to execute Python commands or a Jupyter cell on the ipyparallel engines interactively ([%%px documentation](https://ipyparallel.readthedocs.io/en/latest/tutorial/magics.html))."
   ]
  },
  {
   "cell_type": "markdown",
   "metadata": {},
   "source": [
    "We can now finally import `heat` on our 4-process cluster."
   ]
  },
  {
   "cell_type": "code",
   "execution_count": null,
   "metadata": {
    "tags": []
   },
   "outputs": [
    {
     "name": "stdout",
     "output_type": "stream",
     "text": [
      "%px: 100%|██████████| 4/4 [00:01<00:00,  2.77tasks/s]\n"
     ]
    }
   ],
   "source": [
    "%%px\n",
    "import heat as ht"
   ]
  },
  {
   "cell_type": "code",
   "execution_count": null,
   "metadata": {},
   "outputs": [],
   "source": [
    "%%px\n",
    "ht.use_device(\"gpu\")"
   ]
  },
  {
   "cell_type": "code",
   "execution_count": null,
   "metadata": {},
   "outputs": [
    {
     "data": {
      "text/plain": [
       "\u001b[0;31mOut[3:3]: \u001b[0m\n",
       "tensor([[1., 1., 1., 1., 1., 1., 1., 1., 1., 1.],\n",
       "        [1., 1., 1., 1., 1., 1., 1., 1., 1., 1.]], device='cuda:1')"
      ]
     },
     "metadata": {
      "after": null,
      "completed": null,
      "data": {},
      "engine_id": 3,
      "engine_uuid": "f2f42775-a79bbfdf74b1451745b1b33b",
      "error": null,
      "execute_input": "x = ht.ones((10,10), split=0)\nx.larray\n",
      "execute_result": {
       "data": {
        "text/plain": "tensor([[1., 1., 1., 1., 1., 1., 1., 1., 1., 1.],\n        [1., 1., 1., 1., 1., 1., 1., 1., 1., 1.]], device='cuda:1')"
       },
       "execution_count": 3,
       "metadata": {}
      },
      "follow": null,
      "msg_id": null,
      "outputs": [],
      "received": null,
      "started": null,
      "status": null,
      "stderr": "",
      "stdout": "",
      "submitted": "2025-05-13T13:57:17.136864Z"
     },
     "output_type": "display_data"
    },
    {
     "data": {
      "text/plain": [
       "\u001b[0;31mOut[0:3]: \u001b[0m\n",
       "tensor([[1., 1., 1., 1., 1., 1., 1., 1., 1., 1.],\n",
       "        [1., 1., 1., 1., 1., 1., 1., 1., 1., 1.],\n",
       "        [1., 1., 1., 1., 1., 1., 1., 1., 1., 1.]], device='cuda:0')"
      ]
     },
     "metadata": {
      "after": null,
      "completed": null,
      "data": {},
      "engine_id": 0,
      "engine_uuid": "41c89ea2-836a289f0df22369ee3a4a41",
      "error": null,
      "execute_input": "x = ht.ones((10,10), split=0)\nx.larray\n",
      "execute_result": {
       "data": {
        "text/plain": "tensor([[1., 1., 1., 1., 1., 1., 1., 1., 1., 1.],\n        [1., 1., 1., 1., 1., 1., 1., 1., 1., 1.],\n        [1., 1., 1., 1., 1., 1., 1., 1., 1., 1.]], device='cuda:0')"
       },
       "execution_count": 3,
       "metadata": {}
      },
      "follow": null,
      "msg_id": null,
      "outputs": [],
      "received": null,
      "started": null,
      "status": null,
      "stderr": "",
      "stdout": "",
      "submitted": "2025-05-13T13:57:17.136703Z"
     },
     "output_type": "display_data"
    },
    {
     "data": {
      "text/plain": [
       "\u001b[0;31mOut[2:3]: \u001b[0m\n",
       "tensor([[1., 1., 1., 1., 1., 1., 1., 1., 1., 1.],\n",
       "        [1., 1., 1., 1., 1., 1., 1., 1., 1., 1.]], device='cuda:0')"
      ]
     },
     "metadata": {
      "after": null,
      "completed": null,
      "data": {},
      "engine_id": 2,
      "engine_uuid": "9a961c9d-e3973d86ed7923c48e730123",
      "error": null,
      "execute_input": "x = ht.ones((10,10), split=0)\nx.larray\n",
      "execute_result": {
       "data": {
        "text/plain": "tensor([[1., 1., 1., 1., 1., 1., 1., 1., 1., 1.],\n        [1., 1., 1., 1., 1., 1., 1., 1., 1., 1.]], device='cuda:0')"
       },
       "execution_count": 3,
       "metadata": {}
      },
      "follow": null,
      "msg_id": null,
      "outputs": [],
      "received": null,
      "started": null,
      "status": null,
      "stderr": "",
      "stdout": "",
      "submitted": "2025-05-13T13:57:17.136816Z"
     },
     "output_type": "display_data"
    },
    {
     "data": {
      "text/plain": [
       "\u001b[0;31mOut[1:3]: \u001b[0m\n",
       "tensor([[1., 1., 1., 1., 1., 1., 1., 1., 1., 1.],\n",
       "        [1., 1., 1., 1., 1., 1., 1., 1., 1., 1.],\n",
       "        [1., 1., 1., 1., 1., 1., 1., 1., 1., 1.]], device='cuda:1')"
      ]
     },
     "metadata": {
      "after": null,
      "completed": null,
      "data": {},
      "engine_id": 1,
      "engine_uuid": "db282267-fc4496217b3a865d3c3b5ae8",
      "error": null,
      "execute_input": "x = ht.ones((10,10), split=0)\nx.larray\n",
      "execute_result": {
       "data": {
        "text/plain": "tensor([[1., 1., 1., 1., 1., 1., 1., 1., 1., 1.],\n        [1., 1., 1., 1., 1., 1., 1., 1., 1., 1.],\n        [1., 1., 1., 1., 1., 1., 1., 1., 1., 1.]], device='cuda:1')"
       },
       "execution_count": 3,
       "metadata": {}
      },
      "follow": null,
      "msg_id": null,
      "outputs": [],
      "received": null,
      "started": null,
      "status": null,
      "stderr": "",
      "stdout": "",
      "submitted": "2025-05-13T13:57:17.136769Z"
     },
     "output_type": "display_data"
    }
   ],
   "source": [
    "%%px\n",
    "x = ht.ones((10,10), split=0)\n",
    "x.larray\n"
   ]
  },
  {
   "cell_type": "code",
   "execution_count": null,
   "metadata": {},
   "outputs": [
    {
     "data": {
      "text/plain": [
       "[stdout:0] True\n",
       "2\n",
       "0,1\n"
      ]
     },
     "metadata": {},
     "output_type": "display_data"
    },
    {
     "data": {
      "text/plain": [
       "[stdout:2] True\n",
       "2\n",
       "0,1\n"
      ]
     },
     "metadata": {},
     "output_type": "display_data"
    },
    {
     "data": {
      "text/plain": [
       "[stdout:3] True\n",
       "2\n",
       "0,1\n"
      ]
     },
     "metadata": {},
     "output_type": "display_data"
    },
    {
     "data": {
      "text/plain": [
       "[stdout:1] True\n",
       "2\n",
       "0,1\n"
      ]
     },
     "metadata": {},
     "output_type": "display_data"
    }
   ],
   "source": [
    "%%px\n",
    "import torch\n",
    "import os\n",
    "\n",
    "print(torch.cuda.is_available())\n",
    "print(torch.cuda.device_count())\n",
    "print(os.environ[\"CUDA_VISIBLE_DEVICES\"])"
   ]
  }
 ],
 "metadata": {
  "kernelspec": {
   "display_name": "Python (heat_nb_env)",
   "language": "python",
   "name": "myenv"
  },
  "language_info": {
   "codemirror_mode": {
    "name": "ipython",
    "version": 3
   },
   "file_extension": ".py",
   "mimetype": "text/x-python",
   "name": "python",
   "nbconvert_exporter": "python",
   "pygments_lexer": "ipython3",
   "version": "3.11.2"
  }
 },
 "nbformat": 4,
 "nbformat_minor": 4
}
