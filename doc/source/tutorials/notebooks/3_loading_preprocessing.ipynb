{
 "cells": [
  {
   "cell_type": "markdown",
   "metadata": {},
   "source": [
    "# Loading and Preprocessing\n",
    "\n",
    "### Refresher\n",
    "\n",
    "Using PyTorch as compute engine and mpi4py for communication, Heat implements a number of array operations and algorithms that are optimized for memory-distributed data volumes. This allows you to tackle datasets that are too large for single-node (or worse, single-GPU) processing. \n",
    "\n",
    "As opposed to task-parallel frameworks, Heat takes a data-parallel approach, meaning that each \"worker\" or MPI process performs the same tasks on different slices of the data. Many operations and algorithms are not embarassingly parallel, and involve data exchange between processes. Heat operations and algorithms are designed to minimize this communication overhead, and to make it transparent to the user.\n",
    "\n",
    "In other words: \n",
    "- you don't have to worry about optimizing data chunk sizes; \n",
    "- you don't have to make sure your research problem is embarassingly parallel, or artificially make your dataset smaller so your RAM is sufficient; \n",
    "- you do have to make sure that you have sufficient **overall** RAM to run your global task (e.g. number of nodes / GPUs)."
   ]
  },
  {
   "cell_type": "markdown",
   "metadata": {},
   "source": [
    "The following shows some I/O and preprocessing examples. We'll use small datasets here as each of us only has access to one node only."
   ]
  },
  {
   "cell_type": "markdown",
   "metadata": {},
   "source": [
    "### I/O\n",
    "\n",
    "Let's start with loading a data set. Heat supports reading and writing from/into shared memory for a number of formats, including HDF5, NetCDF, and because we love scientists, csv. Check out the `ht.load` and `ht.save` functions for more details. Here we will load data in [HDF5 format](https://en.wikipedia.org/wiki/Hierarchical_Data_Format).\n",
    "\n",
    "This particular example data set (generated from all Asteroids from the [JPL Small Body Database](https://ssd.jpl.nasa.gov/sb/)) is really small, but it allows to demonstrate the basic functionality of Heat. \n",
    " "
   ]
  },
  {
   "cell_type": "markdown",
   "metadata": {},
   "source": [
    "Your ipcluster should still be running (see the [Intro](0_setup/0_setup_local.ipynb)). Let's test it:"
   ]
  },
  {
   "cell_type": "code",
   "execution_count": null,
   "metadata": {},
   "outputs": [
    {
     "data": {
      "text/plain": [
       "[0, 1, 2, 3]"
      ]
     },
     "execution_count": null,
     "metadata": {},
     "output_type": "execute_result"
    }
   ],
   "source": [
    "from ipyparallel import Client\n",
    "rc = Client(profile=\"default\")\n",
    "rc.ids"
   ]
  },
  {
   "cell_type": "markdown",
   "metadata": {},
   "source": [
    "The above cell should return [0, 1, 2, 3].\n",
    "\n",
    "Now let's import `heat` and load the data set."
   ]
  },
  {
   "cell_type": "code",
   "execution_count": null,
   "metadata": {},
   "outputs": [
    {
     "data": {
      "text/plain": [
       "\u001b[0;31mOut[0:54]: \u001b[0m<DNDarray(MPI-rank: 0, Shape: (1797, 64), Split: 0, Local Shape: (450, 64), Device: cpu:0, Dtype: float64)>"
      ]
     },
     "metadata": {
      "after": null,
      "completed": null,
      "data": {},
      "engine_id": 0,
      "engine_uuid": "26ba0021-35d3d060b50582f7d11d6ead",
      "error": null,
      "execute_input": "import heat as ht\nimport sklearn\nimport sklearn.datasets\n\nX,_ = sklearn.datasets.load_digits(return_X_y=True)\nX = ht.array(X, split=0)\nX\n",
      "execute_result": {
       "data": {
        "text/plain": "<DNDarray(MPI-rank: 0, Shape: (1797, 64), Split: 0, Local Shape: (450, 64), Device: cpu:0, Dtype: float64)>"
       },
       "execution_count": 54,
       "metadata": {}
      },
      "follow": null,
      "msg_id": null,
      "outputs": [],
      "received": null,
      "started": null,
      "status": null,
      "stderr": "",
      "stdout": "",
      "submitted": "2025-05-19T19:24:32.711141Z"
     },
     "output_type": "display_data"
    },
    {
     "data": {
      "text/plain": [
       "\u001b[0;31mOut[2:36]: \u001b[0m<DNDarray(MPI-rank: 2, Shape: (1797, 64), Split: 0, Local Shape: (449, 64), Device: cpu:0, Dtype: float64)>"
      ]
     },
     "metadata": {
      "after": null,
      "completed": null,
      "data": {},
      "engine_id": 2,
      "engine_uuid": "e3e9e719-1b11a826b66969f71d179e21",
      "error": null,
      "execute_input": "import heat as ht\nimport sklearn\nimport sklearn.datasets\n\nX,_ = sklearn.datasets.load_digits(return_X_y=True)\nX = ht.array(X, split=0)\nX\n",
      "execute_result": {
       "data": {
        "text/plain": "<DNDarray(MPI-rank: 2, Shape: (1797, 64), Split: 0, Local Shape: (449, 64), Device: cpu:0, Dtype: float64)>"
       },
       "execution_count": 36,
       "metadata": {}
      },
      "follow": null,
      "msg_id": null,
      "outputs": [],
      "received": null,
      "started": null,
      "status": null,
      "stderr": "",
      "stdout": "",
      "submitted": "2025-05-19T19:24:32.711423Z"
     },
     "output_type": "display_data"
    },
    {
     "data": {
      "text/plain": [
       "\u001b[0;31mOut[3:36]: \u001b[0m<DNDarray(MPI-rank: 3, Shape: (1797, 64), Split: 0, Local Shape: (449, 64), Device: cpu:0, Dtype: float64)>"
      ]
     },
     "metadata": {
      "after": null,
      "completed": null,
      "data": {},
      "engine_id": 3,
      "engine_uuid": "b9f6f6e8-01c224a4024814eaffce2266",
      "error": null,
      "execute_input": "import heat as ht\nimport sklearn\nimport sklearn.datasets\n\nX,_ = sklearn.datasets.load_digits(return_X_y=True)\nX = ht.array(X, split=0)\nX\n",
      "execute_result": {
       "data": {
        "text/plain": "<DNDarray(MPI-rank: 3, Shape: (1797, 64), Split: 0, Local Shape: (449, 64), Device: cpu:0, Dtype: float64)>"
       },
       "execution_count": 36,
       "metadata": {}
      },
      "follow": null,
      "msg_id": null,
      "outputs": [],
      "received": null,
      "started": null,
      "status": null,
      "stderr": "",
      "stdout": "",
      "submitted": "2025-05-19T19:24:32.711532Z"
     },
     "output_type": "display_data"
    },
    {
     "data": {
      "text/plain": [
       "\u001b[0;31mOut[1:36]: \u001b[0m<DNDarray(MPI-rank: 1, Shape: (1797, 64), Split: 0, Local Shape: (449, 64), Device: cpu:0, Dtype: float64)>"
      ]
     },
     "metadata": {
      "after": null,
      "completed": null,
      "data": {},
      "engine_id": 1,
      "engine_uuid": "4a6ffcbf-4b7c9961beb0aa49f4f299a5",
      "error": null,
      "execute_input": "import heat as ht\nimport sklearn\nimport sklearn.datasets\n\nX,_ = sklearn.datasets.load_digits(return_X_y=True)\nX = ht.array(X, split=0)\nX\n",
      "execute_result": {
       "data": {
        "text/plain": "<DNDarray(MPI-rank: 1, Shape: (1797, 64), Split: 0, Local Shape: (449, 64), Device: cpu:0, Dtype: float64)>"
       },
       "execution_count": 36,
       "metadata": {}
      },
      "follow": null,
      "msg_id": null,
      "outputs": [],
      "received": null,
      "started": null,
      "status": null,
      "stderr": "",
      "stdout": "",
      "submitted": "2025-05-19T19:24:32.711290Z"
     },
     "output_type": "display_data"
    }
   ],
   "source": [
    "%%px\n",
    "import heat as ht\n",
    "import sklearn\n",
    "import sklearn.datasets\n",
    "\n",
    "X,_ = sklearn.datasets.load_digits(return_X_y=True)\n",
    "X = ht.array(X, split=0)\n",
    "X\n"
   ]
  },
  {
   "cell_type": "markdown",
   "metadata": {},
   "source": [
    "We have loaded the entire data onto 4 MPI processes. We have created `X` with `split=0`, so each process stores evenly-sized slices of the data along dimension 0."
   ]
  },
  {
   "cell_type": "markdown",
   "metadata": {},
   "source": [
    "### Data exploration\n",
    "\n",
    "Let's get an idea of the size of the data."
   ]
  },
  {
   "cell_type": "code",
   "execution_count": null,
   "metadata": {},
   "outputs": [
    {
     "data": {
      "text/plain": [
       "[stdout:0] X is a 2-dimensional array with shape(1797, 64)\n",
       "X takes up 0.920064 MB of memory.\n"
      ]
     },
     "metadata": {},
     "output_type": "display_data"
    }
   ],
   "source": [
    "%%px \n",
    "# print global metadata once only\n",
    "if X.comm.rank == 0:\n",
    "    print(f\"X is a {X.ndim}-dimensional array with shape{X.shape}\")\n",
    "    print(f\"X takes up {X.nbytes/1e6} MB of memory.\")\n",
    "\n"
   ]
  },
  {
   "cell_type": "markdown",
   "metadata": {},
   "source": [
    "X is a matrix of shape *(datapoints, features)*. \n",
    "\n",
    "To get a first overview, we can print the data and determine its feature-wise mean, variance, min, max etc. These are reduction operations along the datapoints dimension, which is also the `split` dimension. You don't have to implement [`MPI.Allreduce`](https://mpitutorial.com/tutorials/mpi-reduce-and-allreduce/) operations yourself, communication is handled by Heat operations."
   ]
  },
  {
   "cell_type": "code",
   "execution_count": null,
   "metadata": {},
   "outputs": [
    {
     "data": {
      "text/plain": [
       "[stdout:0] Mean: DNDarray([0.0000e+00, 3.0384e-01, 5.2048e+00, 1.1836e+01, 1.1848e+01, 5.7819e+00, 1.3623e+00, 1.2966e-01, 5.5648e-03,\n",
       "          1.9939e+00, 1.0382e+01, 1.1979e+01, 1.0279e+01, 8.1758e+00, 1.8464e+00, 1.0796e-01, 2.7824e-03, 2.6016e+00,\n",
       "          9.9032e+00, 6.9928e+00, 7.0979e+00, 7.8063e+00, 1.7885e+00, 5.0083e-02, 1.1130e-03, 2.4697e+00, 9.0913e+00,\n",
       "          8.8214e+00, 9.9271e+00, 7.5515e+00, 2.3178e+00, 2.2259e-03, 0.0000e+00, 2.3395e+00, 7.6672e+00, 9.0718e+00,\n",
       "          1.0302e+01, 8.7440e+00, 2.9093e+00, 0.0000e+00, 8.9037e-03, 1.5838e+00, 6.8815e+00, 7.2282e+00, 7.6722e+00,\n",
       "          8.2365e+00, 3.4563e+00, 2.7268e-02, 7.2343e-03, 7.0451e-01, 7.5070e+00, 9.5392e+00, 9.4162e+00, 8.7585e+00,\n",
       "          3.7251e+00, 2.0646e-01, 5.5648e-04, 2.7935e-01, 5.5576e+00, 1.2089e+01, 1.1809e+01, 6.7641e+00, 2.0679e+00,\n",
       "          3.6450e-01], dtype=ht.float32, device=cpu:0, split=None)\n",
       "Var: DNDarray([0.0000e+00, 8.2254e-01, 2.2596e+01, 1.8043e+01, 1.8371e+01, 3.2090e+01, 1.1055e+01, 1.0756e+00, 8.8728e-03,\n",
       "          1.0210e+01, 2.9376e+01, 1.5812e+01, 2.2861e+01, 3.6618e+01, 1.2855e+01, 6.8506e-01, 3.8876e-03, 1.2783e+01,\n",
       "          3.2367e+01, 3.3652e+01, 3.8118e+01, 3.8385e+01, 1.0621e+01, 1.9226e-01, 1.1117e-03, 9.8952e+00, 3.8320e+01,\n",
       "          3.4590e+01, 3.7827e+01, 3.4468e+01, 1.3582e+01, 2.2210e-03, 0.0000e+00, 1.2106e+01, 3.9979e+01, 3.9271e+01,\n",
       "          3.5187e+01, 3.4445e+01, 1.2505e+01, 0.0000e+00, 2.1067e-02, 8.8863e+00, 4.2721e+01, 4.1468e+01, 3.9160e+01,\n",
       "          3.2421e+01, 1.8747e+01, 9.4415e-02, 4.1684e-02, 3.0474e+00, 3.1843e+01, 2.7306e+01, 2.8096e+01, 3.6355e+01,\n",
       "          2.4187e+01, 9.6851e-01, 5.5617e-04, 8.7243e-01, 2.6026e+01, 1.9127e+01, 2.4330e+01, 3.4798e+01, 1.6723e+01,\n",
       "          3.4581e+00], dtype=ht.float64, device=cpu:0, split=None)\n",
       "Max: DNDarray([ 0.,  8., 16., 16., 16., 16., 16., 15.,  2., 16., 16., 16., 16., 16., 16., 12.,  2., 16., 16., 16., 16., 16.,\n",
       "          16.,  8.,  1., 15., 16., 16., 16., 16., 15.,  1.,  0., 14., 16., 16., 16., 16., 14.,  0.,  4., 16., 16., 16.,\n",
       "          16., 16., 16.,  6.,  8., 16., 16., 16., 16., 16., 16., 13.,  1.,  9., 16., 16., 16., 16., 16., 16.], dtype=ht.float64, device=cpu:0, split=None)\n",
       "Min: DNDarray([0., 0., 0., 0., 0., 0., 0., 0., 0., 0., 0., 0., 0., 0., 0., 0., 0., 0., 0., 0., 0., 0., 0., 0., 0., 0., 0., 0., 0., 0., 0., 0., 0., 0., 0., 0., 0.,\n",
       "          0., 0., 0., 0., 0., 0., 0., 0., 0., 0., 0., 0., 0., 0., 0., 0., 0., 0., 0., 0., 0., 0., 0., 0., 0., 0., 0.], dtype=ht.float64, device=cpu:0, split=None)\n"
      ]
     },
     "metadata": {},
     "output_type": "display_data"
    }
   ],
   "source": [
    "%%px\n",
    "features_mean = ht.mean(X,axis=0)\n",
    "features_var = ht.var(X,axis=0)\n",
    "features_max = ht.max(X,axis=0)\n",
    "features_min = ht.min(X,axis=0)\n",
    "\n",
    "if ht.MPI_WORLD.rank == 0:\n",
    "    print(f\"Mean: {features_mean}\")\n",
    "    print(f\"Var: {features_var}\")\n",
    "    print(f\"Max: {features_max}\")\n",
    "    print(f\"Min: {features_min}\")"
   ]
  },
  {
   "cell_type": "markdown",
   "metadata": {},
   "source": [
    "Note that the `features_...` DNDarrays are no longer distributed, i.e. a copy of these results exists on each GPU, as the split dimension of the input data has been lost in the reduction operations. "
   ]
  },
  {
   "cell_type": "markdown",
   "metadata": {},
   "source": [
    "### Preprocessing/scaling\n",
    "\n",
    "Next, we can preprocess the data, e.g., by standardizing and/or normalizing. Heat offers several preprocessing routines for doing so, the API is similar to [`sklearn.preprocessing`](https://scikit-learn.org/stable/modules/preprocessing.html) so adapting existing code shouldn't be too complicated.\n",
    "\n",
    "Again, please let us know if you're missing any features."
   ]
  },
  {
   "cell_type": "code",
   "execution_count": null,
   "metadata": {},
   "outputs": [
    {
     "data": {
      "text/plain": [
       "[stdout:1] At least one of the features is almost constant (w.r.t. machine precision) and will not be scaled for this reason.\n",
       "Standard Scaler Mean: \n",
       "Standard Scaler Var: \n",
       "At least one of the features is almost constant (w.r.t. machine precision) and will not be scaled for this reason.\n",
       "Robust Scaler Mean: \n",
       "Robust Scaler Median: \n"
      ]
     },
     "metadata": {},
     "output_type": "display_data"
    },
    {
     "data": {
      "text/plain": [
       "[stdout:2] At least one of the features is almost constant (w.r.t. machine precision) and will not be scaled for this reason.\n",
       "Standard Scaler Mean: \n",
       "Standard Scaler Var: \n",
       "At least one of the features is almost constant (w.r.t. machine precision) and will not be scaled for this reason.\n",
       "Robust Scaler Mean: \n",
       "Robust Scaler Median: \n"
      ]
     },
     "metadata": {},
     "output_type": "display_data"
    },
    {
     "data": {
      "text/plain": [
       "[stdout:3] At least one of the features is almost constant (w.r.t. machine precision) and will not be scaled for this reason.\n",
       "Standard Scaler Mean: \n",
       "Standard Scaler Var: \n",
       "At least one of the features is almost constant (w.r.t. machine precision) and will not be scaled for this reason.\n",
       "Robust Scaler Mean: \n",
       "Robust Scaler Median: \n"
      ]
     },
     "metadata": {},
     "output_type": "display_data"
    },
    {
     "data": {
      "text/plain": [
       "[stdout:0] At least one of the features is almost constant (w.r.t. machine precision) and will not be scaled for this reason.\n",
       "Standard Scaler Mean: DNDarray([ 0.0000e+00, -1.0710e-08, -1.1292e-08,  3.9116e-08,  1.0431e-07, -4.6566e-08, -7.4506e-09, -1.8626e-09,\n",
       "           0.0000e+00, -1.0710e-08, -6.3796e-08, -1.1176e-08, -1.1502e-07, -5.9605e-08, -2.2352e-08,  1.8626e-09,\n",
       "          -2.7940e-09, -1.6764e-08, -9.5344e-08,  5.5879e-08,  1.3970e-08,  5.5181e-08, -2.9802e-08, -7.4506e-09,\n",
       "           9.3132e-10, -1.6764e-08,  6.4261e-08, -3.9116e-08, -6.7055e-08, -6.2399e-08, -2.1420e-08, -1.8626e-09,\n",
       "           0.0000e+00,  0.0000e+00,  2.9802e-08, -9.0338e-08, -1.3970e-09,  3.5390e-08,  2.6077e-08,  0.0000e+00,\n",
       "          -1.8626e-09,  3.1199e-08, -2.3749e-08, -6.7055e-08, -2.8871e-08, -4.0978e-08, -3.0384e-08, -5.3551e-09,\n",
       "          -2.7940e-09, -7.4506e-09, -1.0245e-08, -3.7253e-08, -3.7253e-09, -6.3330e-08, -1.8626e-09,  3.7253e-09,\n",
       "          -2.7940e-09, -3.7253e-09, -4.0513e-08,  7.6252e-08,  8.9407e-08, -4.0978e-08,  7.4506e-09,  0.0000e+00], dtype=ht.float32, device=cpu:0, split=None)\n",
       "Standard Scaler Var: DNDarray([0.0000, 1.0000, 1.0000, 1.0000, 1.0000, 1.0000, 1.0000, 1.0000, 1.0000, 1.0000, 1.0000, 1.0000, 1.0000,\n",
       "          1.0000, 1.0000, 1.0000, 1.0000, 1.0000, 1.0000, 1.0000, 1.0000, 1.0000, 1.0000, 1.0000, 1.0000, 1.0000,\n",
       "          1.0000, 1.0000, 1.0000, 1.0000, 1.0000, 1.0000, 0.0000, 1.0000, 1.0000, 1.0000, 1.0000, 1.0000, 1.0000,\n",
       "          0.0000, 1.0000, 1.0000, 1.0000, 1.0000, 1.0000, 1.0000, 1.0000, 1.0000, 1.0000, 1.0000, 1.0000, 1.0000,\n",
       "          1.0000, 1.0000, 1.0000, 1.0000, 1.0000, 1.0000, 1.0000, 1.0000, 1.0000, 1.0000, 1.0000, 1.0000], dtype=ht.float64, device=cpu:0, split=None)\n",
       "At least one of the features is almost constant (w.r.t. machine precision) and will not be scaled for this reason.\n",
       "Robust Scaler Mean: DNDarray([ 0.0000e+00,  3.0384e-01,  1.5060e-01, -2.3283e-01, -2.3038e-01,  1.6199e-01,  1.3623e+00,  1.2966e-01,\n",
       "           5.5648e-03,  6.6463e-01, -1.7974e-01, -1.4580e-01, -9.0081e-02, -6.8679e-02,  9.2321e-01,  1.0796e-01,\n",
       "           2.7824e-03,  4.0039e-01, -2.0968e-01,  9.0251e-02,  9.1495e-02, -1.3833e-02,  5.9618e-01,  5.0083e-02,\n",
       "           1.1130e-03,  3.6742e-01, -1.5906e-01, -9.8219e-02, -1.7274e-01,  4.5956e-02,  5.7944e-01,  2.2259e-03,\n",
       "           0.0000e+00,  5.8486e-01, -2.3770e-02, -7.1401e-02, -2.6984e-01, -1.1418e-01,  3.1822e-01,  0.0000e+00,\n",
       "           8.9037e-03,  7.9188e-01,  6.2962e-02,  1.6297e-02, -2.5213e-02, -7.6349e-02,  3.5090e-01,  2.7268e-02,\n",
       "           7.2343e-03,  7.0451e-01, -4.4822e-02, -5.1196e-02, -5.8375e-02, -9.5501e-02,  3.8930e-01,  2.0646e-01,\n",
       "           5.5648e-04,  2.7935e-01,  1.7307e-01, -1.8219e-01, -3.6515e-01,  6.3671e-02,  1.0339e+00,  3.6450e-01], dtype=ht.float32, device=cpu:0, split=None)\n",
       "Robust Scaler Median: DNDarray([0.0000e+00, 8.2254e-01, 3.5306e-01, 7.2170e-01, 7.3486e-01, 2.6521e-01, 1.1055e+01, 1.0756e+00, 8.8728e-03,\n",
       "          1.1344e+00, 3.6266e-01, 3.2269e-01, 3.5721e-01, 2.5429e-01, 3.2136e+00, 6.8506e-01, 3.8876e-03, 7.9893e-01,\n",
       "          3.2367e-01, 2.7812e-01, 2.6471e-01, 1.9584e-01, 1.1801e+00, 1.9226e-01, 1.1117e-03, 6.1845e-01, 2.6611e-01,\n",
       "          2.4021e-01, 2.6269e-01, 2.3936e-01, 8.4890e-01, 2.2210e-03, 0.0000e+00, 7.5664e-01, 2.0398e-01, 2.3237e-01,\n",
       "          3.5187e-01, 2.8467e-01, 3.4737e-01, 0.0000e+00, 2.1067e-02, 2.2216e+00, 2.1796e-01, 2.1157e-01, 2.3171e-01,\n",
       "          3.2421e-01, 3.8259e-01, 9.4415e-02, 4.1684e-02, 3.0474e+00, 2.6316e-01, 3.3711e-01, 2.8096e-01, 2.1512e-01,\n",
       "          4.9361e-01, 9.6851e-01, 5.5617e-04, 8.7243e-01, 3.2131e-01, 7.6509e-01, 6.7584e-01, 2.4165e-01, 4.1808e+00,\n",
       "          3.4581e+00], dtype=ht.float64, device=cpu:0, split=None)\n"
      ]
     },
     "metadata": {},
     "output_type": "display_data"
    }
   ],
   "source": [
    "%%px\n",
    "# Standard Scaler\n",
    "scaler = ht.preprocessing.StandardScaler()\n",
    "X_standardized = scaler.fit_transform(X)\n",
    "standardized_mean = ht.mean(X_standardized,axis=0)\n",
    "standardized_var = ht.var(X_standardized,axis=0)\n",
    "print(f\"Standard Scaler Mean: {standardized_mean}\")\n",
    "print(f\"Standard Scaler Var: {standardized_var}\")\n",
    "\n",
    "# Robust Scaler\n",
    "scaler = ht.preprocessing.RobustScaler()\n",
    "X_robust = scaler.fit_transform(X)\n",
    "robust_mean = ht.mean(X_robust,axis=0)\n",
    "robust_var = ht.var(X_robust,axis=0)\n",
    "\n",
    "print(f\"Robust Scaler Mean: {robust_mean}\")\n",
    "print(f\"Robust Scaler Median: {robust_var}\")"
   ]
  },
  {
   "cell_type": "markdown",
   "metadata": {},
   "source": [
    "Within Heat, you have several options to apply memory-distributed machine learning algorithms on your data. Check out our dedicated \"clustering\" notebook for an example.\n",
    "\n"
   ]
  },
  {
   "cell_type": "markdown",
   "metadata": {},
   "source": [
    "Is the algorithm you're looking for not yet implemented? [Let us know](https://github.com/helmholtz-analytics/heat/issues/new/choose)! "
   ]
  }
 ],
 "metadata": {
  "kernelspec": {
   "display_name": "heat-dev-311",
   "language": "python",
   "name": "python3"
  },
  "language_info": {
   "codemirror_mode": {
    "name": "ipython",
    "version": 3
   },
   "file_extension": ".py",
   "mimetype": "text/x-python",
   "name": "python",
   "nbconvert_exporter": "python",
   "pygments_lexer": "ipython3",
   "version": "3.11.8"
  }
 },
 "nbformat": 4,
 "nbformat_minor": 4
}
