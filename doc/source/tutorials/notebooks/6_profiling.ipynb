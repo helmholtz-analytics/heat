{
 "cells": [
  {
   "cell_type": "markdown",
   "id": "0",
   "metadata": {},
   "source": [
    "# Distributed profiling and energy measurements with perun"
   ]
  },
  {
   "cell_type": "markdown",
   "id": "1",
   "metadata": {},
   "source": [
    "How to locate performance issues on your distributed application, and fix them, in three steps:\n",
    "\n",
    "1. Find the problematic/slow function in your code.\n",
    "2. Gather statistics and data about the slow function.\n",
    "3. Fix it!\n",
    "\n",
    "---\n",
    "\n",
    "<div style=\"float: left; padding-right: 2em; padding-top: 2em;\">\n",
    "    <img src=\"https://raw.githubusercontent.com/Helmholtz-AI-Energy/perun/refs/heads/main/docs/images/full_logo.svg\"></img>\n",
    "</div>"
   ]
  },
  {
   "cell_type": "markdown",
   "id": "2",
   "metadata": {},
   "source": [
    "## Intro "
   ]
  },
  {
   "cell_type": "code",
   "execution_count": null,
   "id": "3",
   "metadata": {},
   "outputs": [
    {
     "name": "stdout",
     "output_type": "stream",
     "text": [
      "4 engines found\n"
     ]
    }
   ],
   "source": [
    "from ipyparallel import Client\n",
    "rc = Client(profile=\"default \")\n",
    "rc.ids\n",
    "\n",
    "if len(rc.ids) == 0:\n",
    "    print(\"No engines found\")\n",
    "else:\n",
    "    print(f\"{len(rc.ids)} engines found\")"
   ]
  },
  {
   "cell_type": "markdown",
   "id": "4",
   "metadata": {},
   "source": [
    "## Some basic example we want to profile"
   ]
  },
  {
   "cell_type": "code",
   "execution_count": null,
   "id": "5",
   "metadata": {},
   "outputs": [],
   "source": [
    "%%px\n",
    "import heat as ht\n",
    "from perun import perun, monitor\n",
    "\n",
    "@monitor()\n",
    "def data_loading():\n",
    "    return ht.load_csv(\"heat/datasets/iris.csv\", sep=\";\", split=0)\n",
    "\n",
    "@monitor()\n",
    "def fitting(iris):\n",
    "    k = 3\n",
    "    kmeans = ht.cluster.KMeans(n_clusters=k, init=\"kmeans++\")\n",
    "    kmeans.fit(iris)\n",
    "\n",
    "@perun(log_lvl=\"DEBUG\", data_out=\"perun_data\", format=\"text\")\n",
    "def main():\n",
    "    data = data_loading()\n",
    "    fitting(data)\n"
   ]
  },
  {
   "cell_type": "code",
   "execution_count": null,
   "id": "6",
   "metadata": {},
   "outputs": [
    {
     "data": {
      "text/plain": [
       "[stdout:0] 13-05-2025 05:22:35 : WARNING : io : exportTo -- Output directory does not exist. Creating it.\n"
      ]
     },
     "metadata": {},
     "output_type": "display_data"
    },
    {
     "name": "stdout",
     "output_type": "stream",
     "text": [
      "%px: 100%|██████████| 4/4 [00:00<00:00,  6.07tasks/s]\n"
     ]
    }
   ],
   "source": [
    "%%px\n",
    "main()"
   ]
  }
 ],
 "metadata": {
  "kernelspec": {
   "display_name": "Python (heat_nb_env)",
   "language": "python",
   "name": "myenv"
  },
  "language_info": {
   "codemirror_mode": {
    "name": "ipython",
    "version": 3
   },
   "file_extension": ".py",
   "mimetype": "text/x-python",
   "name": "python",
   "nbconvert_exporter": "python",
   "pygments_lexer": "ipython3",
   "version": "3.11.2"
  }
 },
 "nbformat": 4,
 "nbformat_minor": 5
}
