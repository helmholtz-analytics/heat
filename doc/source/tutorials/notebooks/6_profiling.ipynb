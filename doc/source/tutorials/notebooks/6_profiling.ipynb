{
 "cells": [
  {
   "cell_type": "markdown",
   "id": "0",
   "metadata": {},
   "source": [
    "# Distributed profiling and energy measurements with perun"
   ]
  },
  {
   "cell_type": "markdown",
   "id": "1",
   "metadata": {},
   "source": [
    "Profiling distributed applications can be difficult, as the added complexity limits classical tools like debuggers"
   ]
  },
  {
   "cell_type": "markdown",
   "id": "2",
   "metadata": {},
   "source": [
    "## Intro "
   ]
  },
  {
   "cell_type": "markdown",
   "id": "3",
   "metadata": {},
   "source": [
    "## Setup"
   ]
  },
  {
   "cell_type": "code",
   "execution_count": null,
   "id": "4",
   "metadata": {},
   "outputs": [
    {
     "name": "stdout",
     "output_type": "stream",
     "text": [
      "Requirement already satisfied: perun in /home/juanpedroghm/.pyenv/versions/3.11.2/envs/heat-dev311/lib/python3.11/site-packages (0.8.10)\n",
      "Requirement already satisfied: jupyterlab-h5web in /home/juanpedroghm/.pyenv/versions/3.11.2/envs/heat-dev311/lib/python3.11/site-packages (12.4.0)\n",
      "Requirement already satisfied: h5py>=3.5.9 in /home/juanpedroghm/.pyenv/versions/3.11.2/envs/heat-dev311/lib/python3.11/site-packages (from perun) (3.13.0)\n",
      "Requirement already satisfied: numpy>=1.20.0 in /home/juanpedroghm/.pyenv/versions/3.11.2/envs/heat-dev311/lib/python3.11/site-packages (from perun) (2.2.5)\n",
      "Requirement already satisfied: pandas>=1.3 in /home/juanpedroghm/.pyenv/versions/3.11.2/envs/heat-dev311/lib/python3.11/site-packages (from perun) (2.2.3)\n",
      "Requirement already satisfied: psutil>=5.9.0 in /home/juanpedroghm/.pyenv/versions/3.11.2/envs/heat-dev311/lib/python3.11/site-packages (from perun) (7.0.0)\n",
      "Requirement already satisfied: py-cpuinfo>=5.0.0 in /home/juanpedroghm/.pyenv/versions/3.11.2/envs/heat-dev311/lib/python3.11/site-packages (from perun) (9.0.0)\n",
      "Requirement already satisfied: tabulate>=0.9 in /home/juanpedroghm/.pyenv/versions/3.11.2/envs/heat-dev311/lib/python3.11/site-packages (from perun) (0.9.0)\n",
      "Requirement already satisfied: jupyter_server<3,>=1.6 in /home/juanpedroghm/.pyenv/versions/3.11.2/envs/heat-dev311/lib/python3.11/site-packages (from jupyterlab-h5web) (2.15.0)\n",
      "Requirement already satisfied: h5grove==2.3.0 in /home/juanpedroghm/.pyenv/versions/3.11.2/envs/heat-dev311/lib/python3.11/site-packages (from jupyterlab-h5web) (2.3.0)\n",
      "Requirement already satisfied: orjson in /home/juanpedroghm/.pyenv/versions/3.11.2/envs/heat-dev311/lib/python3.11/site-packages (from h5grove==2.3.0->jupyterlab-h5web) (3.10.18)\n",
      "Requirement already satisfied: tifffile in /home/juanpedroghm/.pyenv/versions/3.11.2/envs/heat-dev311/lib/python3.11/site-packages (from h5grove==2.3.0->jupyterlab-h5web) (2025.3.30)\n",
      "Requirement already satisfied: typing-extensions in /home/juanpedroghm/.pyenv/versions/3.11.2/envs/heat-dev311/lib/python3.11/site-packages (from h5grove==2.3.0->jupyterlab-h5web) (4.13.2)\n",
      "Requirement already satisfied: anyio>=3.1.0 in /home/juanpedroghm/.pyenv/versions/3.11.2/envs/heat-dev311/lib/python3.11/site-packages (from jupyter_server<3,>=1.6->jupyterlab-h5web) (4.9.0)\n",
      "Requirement already satisfied: argon2-cffi>=21.1 in /home/juanpedroghm/.pyenv/versions/3.11.2/envs/heat-dev311/lib/python3.11/site-packages (from jupyter_server<3,>=1.6->jupyterlab-h5web) (23.1.0)\n",
      "Requirement already satisfied: jinja2>=3.0.3 in /home/juanpedroghm/.pyenv/versions/3.11.2/envs/heat-dev311/lib/python3.11/site-packages (from jupyter_server<3,>=1.6->jupyterlab-h5web) (3.1.6)\n",
      "Requirement already satisfied: jupyter-client>=7.4.4 in /home/juanpedroghm/.pyenv/versions/3.11.2/envs/heat-dev311/lib/python3.11/site-packages (from jupyter_server<3,>=1.6->jupyterlab-h5web) (8.6.3)\n",
      "Requirement already satisfied: jupyter-core!=5.0.*,>=4.12 in /home/juanpedroghm/.pyenv/versions/3.11.2/envs/heat-dev311/lib/python3.11/site-packages (from jupyter_server<3,>=1.6->jupyterlab-h5web) (5.7.2)\n",
      "Requirement already satisfied: jupyter-events>=0.11.0 in /home/juanpedroghm/.pyenv/versions/3.11.2/envs/heat-dev311/lib/python3.11/site-packages (from jupyter_server<3,>=1.6->jupyterlab-h5web) (0.12.0)\n",
      "Requirement already satisfied: jupyter-server-terminals>=0.4.4 in /home/juanpedroghm/.pyenv/versions/3.11.2/envs/heat-dev311/lib/python3.11/site-packages (from jupyter_server<3,>=1.6->jupyterlab-h5web) (0.5.3)\n",
      "Requirement already satisfied: nbconvert>=6.4.4 in /home/juanpedroghm/.pyenv/versions/3.11.2/envs/heat-dev311/lib/python3.11/site-packages (from jupyter_server<3,>=1.6->jupyterlab-h5web) (7.16.6)\n",
      "Requirement already satisfied: nbformat>=5.3.0 in /home/juanpedroghm/.pyenv/versions/3.11.2/envs/heat-dev311/lib/python3.11/site-packages (from jupyter_server<3,>=1.6->jupyterlab-h5web) (5.10.4)\n",
      "Requirement already satisfied: overrides>=5.0 in /home/juanpedroghm/.pyenv/versions/3.11.2/envs/heat-dev311/lib/python3.11/site-packages (from jupyter_server<3,>=1.6->jupyterlab-h5web) (7.7.0)\n",
      "Requirement already satisfied: packaging>=22.0 in /home/juanpedroghm/.pyenv/versions/3.11.2/envs/heat-dev311/lib/python3.11/site-packages (from jupyter_server<3,>=1.6->jupyterlab-h5web) (25.0)\n",
      "Requirement already satisfied: prometheus-client>=0.9 in /home/juanpedroghm/.pyenv/versions/3.11.2/envs/heat-dev311/lib/python3.11/site-packages (from jupyter_server<3,>=1.6->jupyterlab-h5web) (0.21.1)\n",
      "Requirement already satisfied: pyzmq>=24 in /home/juanpedroghm/.pyenv/versions/3.11.2/envs/heat-dev311/lib/python3.11/site-packages (from jupyter_server<3,>=1.6->jupyterlab-h5web) (26.4.0)\n",
      "Requirement already satisfied: send2trash>=1.8.2 in /home/juanpedroghm/.pyenv/versions/3.11.2/envs/heat-dev311/lib/python3.11/site-packages (from jupyter_server<3,>=1.6->jupyterlab-h5web) (1.8.3)\n",
      "Requirement already satisfied: terminado>=0.8.3 in /home/juanpedroghm/.pyenv/versions/3.11.2/envs/heat-dev311/lib/python3.11/site-packages (from jupyter_server<3,>=1.6->jupyterlab-h5web) (0.18.1)\n",
      "Requirement already satisfied: tornado>=6.2.0 in /home/juanpedroghm/.pyenv/versions/3.11.2/envs/heat-dev311/lib/python3.11/site-packages (from jupyter_server<3,>=1.6->jupyterlab-h5web) (6.4.2)\n",
      "Requirement already satisfied: traitlets>=5.6.0 in /home/juanpedroghm/.pyenv/versions/3.11.2/envs/heat-dev311/lib/python3.11/site-packages (from jupyter_server<3,>=1.6->jupyterlab-h5web) (5.14.3)\n",
      "Requirement already satisfied: websocket-client>=1.7 in /home/juanpedroghm/.pyenv/versions/3.11.2/envs/heat-dev311/lib/python3.11/site-packages (from jupyter_server<3,>=1.6->jupyterlab-h5web) (1.8.0)\n",
      "Requirement already satisfied: python-dateutil>=2.8.2 in /home/juanpedroghm/.pyenv/versions/3.11.2/envs/heat-dev311/lib/python3.11/site-packages (from pandas>=1.3->perun) (2.9.0.post0)\n",
      "Requirement already satisfied: pytz>=2020.1 in /home/juanpedroghm/.pyenv/versions/3.11.2/envs/heat-dev311/lib/python3.11/site-packages (from pandas>=1.3->perun) (2025.2)\n",
      "Requirement already satisfied: tzdata>=2022.7 in /home/juanpedroghm/.pyenv/versions/3.11.2/envs/heat-dev311/lib/python3.11/site-packages (from pandas>=1.3->perun) (2025.2)\n",
      "Requirement already satisfied: idna>=2.8 in /home/juanpedroghm/.pyenv/versions/3.11.2/envs/heat-dev311/lib/python3.11/site-packages (from anyio>=3.1.0->jupyter_server<3,>=1.6->jupyterlab-h5web) (3.10)\n",
      "Requirement already satisfied: sniffio>=1.1 in /home/juanpedroghm/.pyenv/versions/3.11.2/envs/heat-dev311/lib/python3.11/site-packages (from anyio>=3.1.0->jupyter_server<3,>=1.6->jupyterlab-h5web) (1.3.1)\n",
      "Requirement already satisfied: argon2-cffi-bindings in /home/juanpedroghm/.pyenv/versions/3.11.2/envs/heat-dev311/lib/python3.11/site-packages (from argon2-cffi>=21.1->jupyter_server<3,>=1.6->jupyterlab-h5web) (21.2.0)\n",
      "Requirement already satisfied: MarkupSafe>=2.0 in /home/juanpedroghm/.pyenv/versions/3.11.2/envs/heat-dev311/lib/python3.11/site-packages (from jinja2>=3.0.3->jupyter_server<3,>=1.6->jupyterlab-h5web) (3.0.2)\n",
      "Requirement already satisfied: platformdirs>=2.5 in /home/juanpedroghm/.pyenv/versions/3.11.2/envs/heat-dev311/lib/python3.11/site-packages (from jupyter-core!=5.0.*,>=4.12->jupyter_server<3,>=1.6->jupyterlab-h5web) (4.3.8)\n",
      "Requirement already satisfied: jsonschema>=4.18.0 in /home/juanpedroghm/.pyenv/versions/3.11.2/envs/heat-dev311/lib/python3.11/site-packages (from jsonschema[format-nongpl]>=4.18.0->jupyter-events>=0.11.0->jupyter_server<3,>=1.6->jupyterlab-h5web) (4.23.0)\n",
      "Requirement already satisfied: python-json-logger>=2.0.4 in /home/juanpedroghm/.pyenv/versions/3.11.2/envs/heat-dev311/lib/python3.11/site-packages (from jupyter-events>=0.11.0->jupyter_server<3,>=1.6->jupyterlab-h5web) (3.3.0)\n",
      "Requirement already satisfied: pyyaml>=5.3 in /home/juanpedroghm/.pyenv/versions/3.11.2/envs/heat-dev311/lib/python3.11/site-packages (from jupyter-events>=0.11.0->jupyter_server<3,>=1.6->jupyterlab-h5web) (6.0.2)\n",
      "Requirement already satisfied: referencing in /home/juanpedroghm/.pyenv/versions/3.11.2/envs/heat-dev311/lib/python3.11/site-packages (from jupyter-events>=0.11.0->jupyter_server<3,>=1.6->jupyterlab-h5web) (0.36.2)\n",
      "Requirement already satisfied: rfc3339-validator in /home/juanpedroghm/.pyenv/versions/3.11.2/envs/heat-dev311/lib/python3.11/site-packages (from jupyter-events>=0.11.0->jupyter_server<3,>=1.6->jupyterlab-h5web) (0.1.4)\n",
      "Requirement already satisfied: rfc3986-validator>=0.1.1 in /home/juanpedroghm/.pyenv/versions/3.11.2/envs/heat-dev311/lib/python3.11/site-packages (from jupyter-events>=0.11.0->jupyter_server<3,>=1.6->jupyterlab-h5web) (0.1.1)\n",
      "Requirement already satisfied: beautifulsoup4 in /home/juanpedroghm/.pyenv/versions/3.11.2/envs/heat-dev311/lib/python3.11/site-packages (from nbconvert>=6.4.4->jupyter_server<3,>=1.6->jupyterlab-h5web) (4.13.4)\n",
      "Requirement already satisfied: bleach!=5.0.0 in /home/juanpedroghm/.pyenv/versions/3.11.2/envs/heat-dev311/lib/python3.11/site-packages (from bleach[css]!=5.0.0->nbconvert>=6.4.4->jupyter_server<3,>=1.6->jupyterlab-h5web) (6.2.0)\n",
      "Requirement already satisfied: defusedxml in /home/juanpedroghm/.pyenv/versions/3.11.2/envs/heat-dev311/lib/python3.11/site-packages (from nbconvert>=6.4.4->jupyter_server<3,>=1.6->jupyterlab-h5web) (0.7.1)\n",
      "Requirement already satisfied: jupyterlab-pygments in /home/juanpedroghm/.pyenv/versions/3.11.2/envs/heat-dev311/lib/python3.11/site-packages (from nbconvert>=6.4.4->jupyter_server<3,>=1.6->jupyterlab-h5web) (0.3.0)\n",
      "Requirement already satisfied: mistune<4,>=2.0.3 in /home/juanpedroghm/.pyenv/versions/3.11.2/envs/heat-dev311/lib/python3.11/site-packages (from nbconvert>=6.4.4->jupyter_server<3,>=1.6->jupyterlab-h5web) (3.1.3)\n",
      "Requirement already satisfied: nbclient>=0.5.0 in /home/juanpedroghm/.pyenv/versions/3.11.2/envs/heat-dev311/lib/python3.11/site-packages (from nbconvert>=6.4.4->jupyter_server<3,>=1.6->jupyterlab-h5web) (0.10.2)\n",
      "Requirement already satisfied: pandocfilters>=1.4.1 in /home/juanpedroghm/.pyenv/versions/3.11.2/envs/heat-dev311/lib/python3.11/site-packages (from nbconvert>=6.4.4->jupyter_server<3,>=1.6->jupyterlab-h5web) (1.5.1)\n",
      "Requirement already satisfied: pygments>=2.4.1 in /home/juanpedroghm/.pyenv/versions/3.11.2/envs/heat-dev311/lib/python3.11/site-packages (from nbconvert>=6.4.4->jupyter_server<3,>=1.6->jupyterlab-h5web) (2.19.1)\n",
      "Requirement already satisfied: fastjsonschema>=2.15 in /home/juanpedroghm/.pyenv/versions/3.11.2/envs/heat-dev311/lib/python3.11/site-packages (from nbformat>=5.3.0->jupyter_server<3,>=1.6->jupyterlab-h5web) (2.21.1)\n",
      "Requirement already satisfied: six>=1.5 in /home/juanpedroghm/.pyenv/versions/3.11.2/envs/heat-dev311/lib/python3.11/site-packages (from python-dateutil>=2.8.2->pandas>=1.3->perun) (1.17.0)\n",
      "Requirement already satisfied: ptyprocess in /home/juanpedroghm/.pyenv/versions/3.11.2/envs/heat-dev311/lib/python3.11/site-packages (from terminado>=0.8.3->jupyter_server<3,>=1.6->jupyterlab-h5web) (0.7.0)\n",
      "Requirement already satisfied: webencodings in /home/juanpedroghm/.pyenv/versions/3.11.2/envs/heat-dev311/lib/python3.11/site-packages (from bleach!=5.0.0->bleach[css]!=5.0.0->nbconvert>=6.4.4->jupyter_server<3,>=1.6->jupyterlab-h5web) (0.5.1)\n",
      "Requirement already satisfied: tinycss2<1.5,>=1.1.0 in /home/juanpedroghm/.pyenv/versions/3.11.2/envs/heat-dev311/lib/python3.11/site-packages (from bleach[css]!=5.0.0->nbconvert>=6.4.4->jupyter_server<3,>=1.6->jupyterlab-h5web) (1.4.0)\n",
      "Requirement already satisfied: attrs>=22.2.0 in /home/juanpedroghm/.pyenv/versions/3.11.2/envs/heat-dev311/lib/python3.11/site-packages (from jsonschema>=4.18.0->jsonschema[format-nongpl]>=4.18.0->jupyter-events>=0.11.0->jupyter_server<3,>=1.6->jupyterlab-h5web) (25.3.0)\n",
      "Requirement already satisfied: jsonschema-specifications>=2023.03.6 in /home/juanpedroghm/.pyenv/versions/3.11.2/envs/heat-dev311/lib/python3.11/site-packages (from jsonschema>=4.18.0->jsonschema[format-nongpl]>=4.18.0->jupyter-events>=0.11.0->jupyter_server<3,>=1.6->jupyterlab-h5web) (2025.4.1)\n",
      "Requirement already satisfied: rpds-py>=0.7.1 in /home/juanpedroghm/.pyenv/versions/3.11.2/envs/heat-dev311/lib/python3.11/site-packages (from jsonschema>=4.18.0->jsonschema[format-nongpl]>=4.18.0->jupyter-events>=0.11.0->jupyter_server<3,>=1.6->jupyterlab-h5web) (0.24.0)\n",
      "Requirement already satisfied: fqdn in /home/juanpedroghm/.pyenv/versions/3.11.2/envs/heat-dev311/lib/python3.11/site-packages (from jsonschema[format-nongpl]>=4.18.0->jupyter-events>=0.11.0->jupyter_server<3,>=1.6->jupyterlab-h5web) (1.5.1)\n",
      "Requirement already satisfied: isoduration in /home/juanpedroghm/.pyenv/versions/3.11.2/envs/heat-dev311/lib/python3.11/site-packages (from jsonschema[format-nongpl]>=4.18.0->jupyter-events>=0.11.0->jupyter_server<3,>=1.6->jupyterlab-h5web) (20.11.0)\n",
      "Requirement already satisfied: jsonpointer>1.13 in /home/juanpedroghm/.pyenv/versions/3.11.2/envs/heat-dev311/lib/python3.11/site-packages (from jsonschema[format-nongpl]>=4.18.0->jupyter-events>=0.11.0->jupyter_server<3,>=1.6->jupyterlab-h5web) (3.0.0)\n",
      "Requirement already satisfied: uri-template in /home/juanpedroghm/.pyenv/versions/3.11.2/envs/heat-dev311/lib/python3.11/site-packages (from jsonschema[format-nongpl]>=4.18.0->jupyter-events>=0.11.0->jupyter_server<3,>=1.6->jupyterlab-h5web) (1.3.0)\n",
      "Requirement already satisfied: webcolors>=24.6.0 in /home/juanpedroghm/.pyenv/versions/3.11.2/envs/heat-dev311/lib/python3.11/site-packages (from jsonschema[format-nongpl]>=4.18.0->jupyter-events>=0.11.0->jupyter_server<3,>=1.6->jupyterlab-h5web) (24.11.1)\n",
      "Requirement already satisfied: cffi>=1.0.1 in /home/juanpedroghm/.pyenv/versions/3.11.2/envs/heat-dev311/lib/python3.11/site-packages (from argon2-cffi-bindings->argon2-cffi>=21.1->jupyter_server<3,>=1.6->jupyterlab-h5web) (1.17.1)\n",
      "Requirement already satisfied: soupsieve>1.2 in /home/juanpedroghm/.pyenv/versions/3.11.2/envs/heat-dev311/lib/python3.11/site-packages (from beautifulsoup4->nbconvert>=6.4.4->jupyter_server<3,>=1.6->jupyterlab-h5web) (2.7)\n",
      "Requirement already satisfied: pycparser in /home/juanpedroghm/.pyenv/versions/3.11.2/envs/heat-dev311/lib/python3.11/site-packages (from cffi>=1.0.1->argon2-cffi-bindings->argon2-cffi>=21.1->jupyter_server<3,>=1.6->jupyterlab-h5web) (2.22)\n",
      "Requirement already satisfied: arrow>=0.15.0 in /home/juanpedroghm/.pyenv/versions/3.11.2/envs/heat-dev311/lib/python3.11/site-packages (from isoduration->jsonschema[format-nongpl]>=4.18.0->jupyter-events>=0.11.0->jupyter_server<3,>=1.6->jupyterlab-h5web) (1.3.0)\n",
      "Requirement already satisfied: types-python-dateutil>=2.8.10 in /home/juanpedroghm/.pyenv/versions/3.11.2/envs/heat-dev311/lib/python3.11/site-packages (from arrow>=0.15.0->isoduration->jsonschema[format-nongpl]>=4.18.0->jupyter-events>=0.11.0->jupyter_server<3,>=1.6->jupyterlab-h5web) (2.9.0.20241206)\n",
      "\n",
      "\u001b[1m[\u001b[0m\u001b[34;49mnotice\u001b[0m\u001b[1;39;49m]\u001b[0m\u001b[39;49m A new release of pip is available: \u001b[0m\u001b[31;49m25.0.1\u001b[0m\u001b[39;49m -> \u001b[0m\u001b[32;49m25.1.1\u001b[0m\n",
      "\u001b[1m[\u001b[0m\u001b[34;49mnotice\u001b[0m\u001b[1;39;49m]\u001b[0m\u001b[39;49m To update, run: \u001b[0m\u001b[32;49mpip install --upgrade pip\u001b[0m\n"
     ]
    }
   ],
   "source": [
    "!pip install perun jupyterlab-h5web"
   ]
  },
  {
   "cell_type": "code",
   "execution_count": null,
   "id": "5",
   "metadata": {},
   "outputs": [
    {
     "name": "stdout",
     "output_type": "stream",
     "text": [
      "4 engines found\n"
     ]
    }
   ],
   "source": [
    "from ipyparallel import Client\n",
    "rc = Client(profile=\"default\")\n",
    "rc.ids\n",
    "\n",
    "if len(rc.ids) == 0:\n",
    "    print(\"No engines found\")\n",
    "else:\n",
    "    print(f\"{len(rc.ids)} engines found\")"
   ]
  },
  {
   "cell_type": "markdown",
   "id": "6",
   "metadata": {},
   "source": [
    "## Some basic example we want to profile"
   ]
  },
  {
   "cell_type": "code",
   "execution_count": null,
   "id": "7",
   "metadata": {},
   "outputs": [],
   "source": [
    "%%px\n",
    "from perun import perun, monitor\n",
    "\n",
    "@monitor()\n",
    "def data_loading():\n",
    "    return ht.load(\"./heat/datasets/iris.csv\", sep=\";\", split=0)\n",
    "\n",
    "@monitor()\n",
    "def fitting(iris):\n",
    "    k = 3\n",
    "    kmeans = ht.cluster.KMeans(n_clusters=k, init=\"kmeans++\")\n",
    "    kmeans.fit(iris)\n",
    "\n",
    "@perun(data_out=\"perun_data\", format=\"text\")\n",
    "def main():\n",
    "    print(\"Something\")\n",
    "    data = data_loading()\n",
    "    fitting(data)\n"
   ]
  },
  {
   "cell_type": "code",
   "execution_count": null,
   "id": "8",
   "metadata": {},
   "outputs": [
    {
     "data": {
      "text/plain": [
       "[stdout:1] Something\n"
      ]
     },
     "metadata": {},
     "output_type": "display_data"
    },
    {
     "data": {
      "text/plain": [
       "[stdout:2] Something\n"
      ]
     },
     "metadata": {},
     "output_type": "display_data"
    },
    {
     "data": {
      "text/plain": [
       "[stdout:3] Something\n"
      ]
     },
     "metadata": {},
     "output_type": "display_data"
    },
    {
     "data": {
      "text/plain": [
       "[stdout:0] Something\n"
      ]
     },
     "metadata": {},
     "output_type": "display_data"
    },
    {
     "data": {
      "application/vnd.jupyter.widget-view+json": {
       "model_id": "052a53e45c5c43dba7502e5a9dba7edb",
       "version_major": 2,
       "version_minor": 0
      },
      "text/plain": [
       "%px:   0%|          | 0/4 [00:00<?, ?tasks/s]"
      ]
     },
     "metadata": {},
     "output_type": "display_data"
    }
   ],
   "source": [
    "%%px\n",
    "main()"
   ]
  },
  {
   "cell_type": "code",
   "execution_count": null,
   "id": "9",
   "metadata": {},
   "outputs": [
    {
     "data": {
      "application/x-hdf5": "/home/juanpedroghm/code/heat/tutorials/local/../../perun_data/main.hdf5",
      "text/plain": [
       "<jupyterlab_h5web.widget.H5Web object>"
      ]
     },
     "execution_count": null,
     "metadata": {},
     "output_type": "execute_result"
    }
   ],
   "source": [
    "from jupyterlab_h5web import H5Web\n",
    "\n",
    "H5Web(\"../../perun_data/main.hdf5\")"
   ]
  }
 ],
 "metadata": {
  "kernelspec": {
   "display_name": "heat-dev311",
   "language": "python",
   "name": "python3"
  },
  "language_info": {
   "codemirror_mode": {
    "name": "ipython",
    "version": 3
   },
   "file_extension": ".py",
   "mimetype": "text/x-python",
   "name": "python",
   "nbconvert_exporter": "python",
   "pygments_lexer": "ipython3",
   "version": "3.11.2"
  }
 },
 "nbformat": 4,
 "nbformat_minor": 5
}
