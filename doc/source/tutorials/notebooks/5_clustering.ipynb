{
 "cells": [
  {
   "cell_type": "markdown",
   "metadata": {},
   "source": [
    "Cluster Analysis\n",
    "================\n",
    "\n",
    "This tutorial is an interactive version of our static [clustering tutorial on ReadTheDocs](https://heat.readthedocs.io/en/stable/tutorial_clustering.html). \n",
    "\n",
    "We will demonstrate memory-distributed analysis with k-means and k-medians from the ``heat.cluster`` module. As usual, we will run the analysis on a small dataset for demonstration. We need to have an `ipcluster` running to distribute the computation.\n",
    "\n",
    "We will use matplotlib for visualization of data and results."
   ]
  },
  {
   "cell_type": "code",
   "execution_count": null,
   "metadata": {},
   "outputs": [
    {
     "name": "stdout",
     "output_type": "stream",
     "text": [
      "4 engines found\n"
     ]
    }
   ],
   "source": [
    "from ipyparallel import Client\n",
    "rc = Client(profile=\"default\")\n",
    "rc.ids\n",
    "\n",
    "if len(rc.ids) == 0:\n",
    "    print(\"No engines found\")\n",
    "else:\n",
    "    print(f\"{len(rc.ids)} engines found\")"
   ]
  },
  {
   "cell_type": "code",
   "execution_count": null,
   "metadata": {},
   "outputs": [],
   "source": [
    "%px import heat as ht\n",
    "%matplotlib inline"
   ]
  },
  {
   "cell_type": "markdown",
   "metadata": {},
   "source": [
    "Spherical Clouds of Datapoints\n",
    "------------------------------\n",
    "For a simple demonstration of the clustering process and the differences between the algorithms, we will create an\n",
    "artificial dataset, consisting of two circularly shaped clusters positioned at $(x_1=2, y_1=2)$ and $(x_2=-2, y_2=-2)$ in 2D space.\n",
    "For each cluster we will sample 100 arbitrary points from a circle with radius of $R = 1.0$ by drawing random numbers\n",
    "for the spherical coordinates $( r\\in [0,R], \\phi \\in [0,2\\pi])$, translating these to cartesian coordinates\n",
    "and shifting them by $+2$ for cluster ``c1`` and $-2$ for cluster ``c2``. The resulting concatenated dataset ``data`` has shape\n",
    "$(200, 2)$ and is distributed among the ``p`` processes along axis 0 (sample axis)."
   ]
  },
  {
   "cell_type": "code",
   "execution_count": null,
   "metadata": {},
   "outputs": [],
   "source": [
    "%%px\n",
    "\n",
    "num_ele = 100\n",
    "R = 1.0\n",
    "\n",
    "# Create default spherical point cloud\n",
    "# Sample radius between 0 and 1, and phi between 0 and 2pi\n",
    "r = ht.random.rand(num_ele, split=0) * R\n",
    "phi = ht.random.rand(num_ele, split=0) * 2 * ht.constants.PI\n",
    "\n",
    "# Transform spherical coordinates to cartesian coordinates\n",
    "x = r * ht.cos(phi)\n",
    "y = r * ht.sin(phi)\n",
    "\n",
    "\n",
    "# Stack the sampled points and shift them to locations (2,2) and (-2, -2)\n",
    "cluster1 = ht.stack((x + 2, y + 2), axis=1)\n",
    "cluster2 = ht.stack((x - 2, y - 2), axis=1)\n",
    "\n",
    "data = ht.concatenate((cluster1, cluster2), axis=0)"
   ]
  },
  {
   "cell_type": "markdown",
   "metadata": {},
   "source": [
    "Let's plot the data for illustration. In order to do so with matplotlib, we need to unsplit the data (gather it from\n",
    "all processes) and transform it into a numpy array. Plotting can only be done on rank 0.\n"
   ]
  },
  {
   "cell_type": "code",
   "execution_count": null,
   "metadata": {},
   "outputs": [],
   "source": [
    "%%px\n",
    "data_np = ht.resplit(data, axis=None).numpy()  "
   ]
  },
  {
   "cell_type": "code",
   "execution_count": null,
   "metadata": {},
   "outputs": [
    {
     "data": {
      "text/plain": [
       "\u001b[0;31mOut[0:65]: \u001b[0m[<matplotlib.lines.Line2D at 0x74dbde6c9ad0>]"
      ]
     },
     "metadata": {
      "after": null,
      "completed": null,
      "data": {},
      "engine_id": 0,
      "engine_uuid": "26ba0021-35d3d060b50582f7d11d6ead",
      "error": null,
      "execute_input": "import matplotlib.pyplot as plt\nplt.plot(data_np[:,0], data_np[:,1], 'bo')\n",
      "execute_result": {
       "data": {
        "text/plain": "[<matplotlib.lines.Line2D at 0x74dbde6c9ad0>]"
       },
       "execution_count": 65,
       "metadata": {}
      },
      "follow": null,
      "msg_id": null,
      "outputs": [],
      "received": null,
      "started": null,
      "status": null,
      "stderr": "",
      "stdout": "",
      "submitted": "2025-05-19T19:28:37.872913Z"
     },
     "output_type": "display_data"
    },
    {
     "data": {
      "text/plain": [
       "[output:0]"
      ]
     },
     "metadata": {},
     "output_type": "display_data"
    },
    {
     "data": {
      "image/png": "[encoded data removed]",
      "text/plain": [
       "<Figure size 640x480 with 1 Axes>"
      ]
     },
     "metadata": {
      "engine": 0
     },
     "output_type": "display_data"
    }
   ],
   "source": [
    "%%px --target 0\n",
    "import matplotlib.pyplot as plt\n",
    "plt.plot(data_np[:,0], data_np[:,1], 'bo')"
   ]
  },
  {
   "cell_type": "markdown",
   "metadata": {},
   "source": [
    "Now we perform the clustering analysis with kmeans. We chose 'kmeans++' as an intelligent way of sampling the\n",
    "initial centroids."
   ]
  },
  {
   "cell_type": "code",
   "execution_count": null,
   "metadata": {},
   "outputs": [
    {
     "data": {
      "text/plain": [
       "[stdout:0] Number of points assigned to c1: 100 \n",
       "Number of points assigned to c2: 100 \n",
       "Centroids = DNDarray([[ 2.0113,  1.9847],\n",
       "          [-1.9887, -2.0153]], dtype=ht.float32, device=cpu:0, split=None)\n"
      ]
     },
     "metadata": {},
     "output_type": "display_data"
    },
    {
     "data": {
      "text/plain": [
       "[stdout:3] Number of points assigned to c1: 100 \n",
       "Number of points assigned to c2: 100 \n",
       "Centroids = \n"
      ]
     },
     "metadata": {},
     "output_type": "display_data"
    },
    {
     "data": {
      "text/plain": [
       "[stdout:2] Number of points assigned to c1: 100 \n",
       "Number of points assigned to c2: 100 \n",
       "Centroids = \n"
      ]
     },
     "metadata": {},
     "output_type": "display_data"
    },
    {
     "data": {
      "text/plain": [
       "[stdout:1] Number of points assigned to c1: 100 \n",
       "Number of points assigned to c2: 100 \n",
       "Centroids = \n"
      ]
     },
     "metadata": {},
     "output_type": "display_data"
    }
   ],
   "source": [
    "%%px\n",
    "kmeans = ht.cluster.KMeans(n_clusters=2, init=\"kmeans++\")\n",
    "labels = kmeans.fit_predict(data).squeeze()\n",
    "centroids = kmeans.cluster_centers_\n",
    "\n",
    "# Select points assigned to clusters c1 and c2\n",
    "c1 = data[ht.where(labels == 0), :]\n",
    "c2 = data[ht.where(labels == 1), :]\n",
    "# After slicing, the arrays are no longer distributed evenly among the processes; we might need to balance the load\n",
    "c1.balance_() #in-place operation\n",
    "c2.balance_()\n",
    "\n",
    "print(f\"Number of points assigned to c1: {c1.shape[0]} \\n\"\n",
    "        f\"Number of points assigned to c2: {c2.shape[0]} \\n\"\n",
    "        f\"Centroids = {centroids}\")\n"
   ]
  },
  {
   "cell_type": "markdown",
   "metadata": {},
   "source": [
    "Let's plot the assigned clusters and the respective centroids:\n"
   ]
  },
  {
   "cell_type": "code",
   "execution_count": null,
   "metadata": {},
   "outputs": [],
   "source": [
    "%%px\n",
    "# just for plotting: collect all the data on each process and extract the numpy arrays. This will copy data to CPU if necessary.\n",
    "c1_np = c1.numpy()\n",
    "c2_np = c2.numpy()"
   ]
  },
  {
   "cell_type": "code",
   "execution_count": null,
   "metadata": {},
   "outputs": [
    {
     "data": {
      "text/plain": [
       "[output:0]"
      ]
     },
     "metadata": {},
     "output_type": "display_data"
    },
    {
     "data": {
      "image/png": "[encoded data removed]",
      "text/plain": [
       "<Figure size 640x480 with 1 Axes>"
      ]
     },
     "metadata": {
      "engine": 0
     },
     "output_type": "display_data"
    }
   ],
   "source": [
    "%%px --target 0\n",
    "# plotting on 1 process only\n",
    "plt.plot(c1_np[:,0], c1_np[:,1], 'x', color='#f0781e')\n",
    "plt.plot(c2_np[:,0], c2_np[:,1], 'x', color='#5a696e')\n",
    "plt.plot(centroids[0,0],centroids[0,1], '^', markersize=10, markeredgecolor='black', color='#f0781e' )\n",
    "plt.plot(centroids[1,0],centroids[1,1], '^', markersize=10, markeredgecolor='black',color='#5a696e')\n",
    "plt.show()"
   ]
  },
  {
   "cell_type": "markdown",
   "metadata": {},
   "source": [
    "We can also cluster the data with kmedians. The respective advanced initial centroid sampling is called 'kmedians++'."
   ]
  },
  {
   "cell_type": "code",
   "execution_count": null,
   "metadata": {},
   "outputs": [
    {
     "data": {
      "text/plain": [
       "[stdout:0] Number of points assigned to c1: 100 \n",
       "Number of points assigned to c2: 100 \n",
       "Centroids = DNDarray([[ 1.9905,  1.9855],\n",
       "          [-2.0095, -2.0145]], dtype=ht.float32, device=cpu:0, split=None)\n"
      ]
     },
     "metadata": {},
     "output_type": "display_data"
    },
    {
     "data": {
      "text/plain": [
       "[stdout:1] Number of points assigned to c1: 100 \n",
       "Number of points assigned to c2: 100 \n",
       "Centroids = \n"
      ]
     },
     "metadata": {},
     "output_type": "display_data"
    },
    {
     "data": {
      "text/plain": [
       "[stdout:3] Number of points assigned to c1: 100 \n",
       "Number of points assigned to c2: 100 \n",
       "Centroids = \n"
      ]
     },
     "metadata": {},
     "output_type": "display_data"
    },
    {
     "data": {
      "text/plain": [
       "[stdout:2] Number of points assigned to c1: 100 \n",
       "Number of points assigned to c2: 100 \n",
       "Centroids = \n"
      ]
     },
     "metadata": {},
     "output_type": "display_data"
    }
   ],
   "source": [
    "%%px\n",
    "kmedians = ht.cluster.KMedians(n_clusters=2, init=\"kmedians++\")\n",
    "labels = kmedians.fit_predict(data).squeeze()\n",
    "centroids = kmedians.cluster_centers_\n",
    "\n",
    "# Select points assigned to clusters c1 and c2\n",
    "c1 = data[ht.where(labels == 0), :]\n",
    "c2 = data[ht.where(labels == 1), :]\n",
    "# After slicing, the arrays are not distributed equally among the processes anymore; we need to balance\n",
    "c1.balance_()\n",
    "c2.balance_()\n",
    "\n",
    "print(f\"Number of points assigned to c1: {c1.shape[0]} \\n\"\n",
    "        f\"Number of points assigned to c2: {c2.shape[0]} \\n\"\n",
    "        f\"Centroids = {centroids}\")"
   ]
  },
  {
   "cell_type": "markdown",
   "metadata": {},
   "source": [
    "Plotting the assigned clusters and the respective centroids:\n"
   ]
  },
  {
   "cell_type": "code",
   "execution_count": null,
   "metadata": {},
   "outputs": [],
   "source": [
    "%%px\n",
    "c1_np = c1.numpy()\n",
    "c2_np = c2.numpy()"
   ]
  },
  {
   "cell_type": "code",
   "execution_count": null,
   "metadata": {},
   "outputs": [
    {
     "data": {
      "text/plain": [
       "[output:0]"
      ]
     },
     "metadata": {},
     "output_type": "display_data"
    },
    {
     "data": {
      "image/png": "[encoded data removed]",
      "text/plain": [
       "<Figure size 640x480 with 1 Axes>"
      ]
     },
     "metadata": {
      "engine": 0
     },
     "output_type": "display_data"
    }
   ],
   "source": [
    "%%px --target 0\n",
    "plt.plot(c1_np[:,0], c1_np[:,1], 'x', color='#f0781e')\n",
    "plt.plot(c2_np[:,0], c2_np[:,1], 'x', color='#5a696e')\n",
    "plt.plot(centroids[0,0],centroids[0,1], '^', markersize=10, markeredgecolor='black', color='#f0781e' )\n",
    "plt.plot(centroids[1,0],centroids[1,1], '^', markersize=10, markeredgecolor='black',color='#5a696e')\n",
    "plt.show()"
   ]
  },
  {
   "cell_type": "markdown",
   "metadata": {},
   "source": [
    "The Iris Dataset\n",
    "------------------------------\n",
    "The _iris_ dataset is a well known example for clustering analysis. It contains 4 measured features for samples from\n",
    "three different types of iris flowers. A subset of 150 samples is included in formats h5, csv and netcdf in the [Heat repository under 'heat/heat/datasets'](https://github.com/helmholtz-analytics/heat/tree/main/heat/datasets), and can be loaded in a distributed manner with Heat's parallel dataloader.\n",
    "\n",
    "**NOTE: you might have to change the path to the dataset in the following cell.**"
   ]
  },
  {
   "cell_type": "code",
   "execution_count": null,
   "metadata": {},
   "outputs": [],
   "source": [
    "%%px\n",
    "iris = ht.load_csv(\"heat/datasets/iris.csv\", sep=\";\", split=0)"
   ]
  },
  {
   "cell_type": "markdown",
   "metadata": {},
   "source": [
    "Feel free to try out the other [loading options](https://heat.readthedocs.io/en/stable/autoapi/heat/core/io/index.html#heat.core.io.load) as well.\n",
    "\n",
    "Fitting the dataset with `kmeans`:"
   ]
  },
  {
   "cell_type": "code",
   "execution_count": null,
   "metadata": {},
   "outputs": [
    {
     "data": {
      "text/plain": [
       "\u001b[0;31mOut[1:54]: \u001b[0m\n",
       "KMeans({\n",
       "    \"n_clusters\": 3,\n",
       "    \"init\": \"probability_based\",\n",
       "    \"max_iter\": 300,\n",
       "    \"tol\": 0.0001,\n",
       "    \"random_state\": null\n",
       "})"
      ]
     },
     "metadata": {
      "after": null,
      "completed": null,
      "data": {},
      "engine_id": 1,
      "engine_uuid": "4a6ffcbf-4b7c9961beb0aa49f4f299a5",
      "error": null,
      "execute_input": "k = 3\nkmeans = ht.cluster.KMeans(n_clusters=k, init=\"kmeans++\")\nkmeans.fit(iris)\n",
      "execute_result": {
       "data": {
        "text/plain": "KMeans({\n    \"n_clusters\": 3,\n    \"init\": \"probability_based\",\n    \"max_iter\": 300,\n    \"tol\": 0.0001,\n    \"random_state\": null\n})"
       },
       "execution_count": 54,
       "metadata": {}
      },
      "follow": null,
      "msg_id": null,
      "outputs": [],
      "received": null,
      "started": null,
      "status": null,
      "stderr": "",
      "stdout": "",
      "submitted": "2025-05-19T19:30:37.715568Z"
     },
     "output_type": "display_data"
    },
    {
     "data": {
      "text/plain": [
       "\u001b[0;31mOut[3:54]: \u001b[0m\n",
       "KMeans({\n",
       "    \"n_clusters\": 3,\n",
       "    \"init\": \"probability_based\",\n",
       "    \"max_iter\": 300,\n",
       "    \"tol\": 0.0001,\n",
       "    \"random_state\": null\n",
       "})"
      ]
     },
     "metadata": {
      "after": null,
      "completed": null,
      "data": {},
      "engine_id": 3,
      "engine_uuid": "b9f6f6e8-01c224a4024814eaffce2266",
      "error": null,
      "execute_input": "k = 3\nkmeans = ht.cluster.KMeans(n_clusters=k, init=\"kmeans++\")\nkmeans.fit(iris)\n",
      "execute_result": {
       "data": {
        "text/plain": "KMeans({\n    \"n_clusters\": 3,\n    \"init\": \"probability_based\",\n    \"max_iter\": 300,\n    \"tol\": 0.0001,\n    \"random_state\": null\n})"
       },
       "execution_count": 54,
       "metadata": {}
      },
      "follow": null,
      "msg_id": null,
      "outputs": [],
      "received": null,
      "started": null,
      "status": null,
      "stderr": "",
      "stdout": "",
      "submitted": "2025-05-19T19:30:37.715694Z"
     },
     "output_type": "display_data"
    },
    {
     "data": {
      "text/plain": [
       "\u001b[0;31mOut[0:75]: \u001b[0m\n",
       "KMeans({\n",
       "    \"n_clusters\": 3,\n",
       "    \"init\": \"probability_based\",\n",
       "    \"max_iter\": 300,\n",
       "    \"tol\": 0.0001,\n",
       "    \"random_state\": null\n",
       "})"
      ]
     },
     "metadata": {
      "after": null,
      "completed": null,
      "data": {},
      "engine_id": 0,
      "engine_uuid": "26ba0021-35d3d060b50582f7d11d6ead",
      "error": null,
      "execute_input": "k = 3\nkmeans = ht.cluster.KMeans(n_clusters=k, init=\"kmeans++\")\nkmeans.fit(iris)\n",
      "execute_result": {
       "data": {
        "text/plain": "KMeans({\n    \"n_clusters\": 3,\n    \"init\": \"probability_based\",\n    \"max_iter\": 300,\n    \"tol\": 0.0001,\n    \"random_state\": null\n})"
       },
       "execution_count": 75,
       "metadata": {}
      },
      "follow": null,
      "msg_id": null,
      "outputs": [],
      "received": null,
      "started": null,
      "status": null,
      "stderr": "",
      "stdout": "",
      "submitted": "2025-05-19T19:30:37.715223Z"
     },
     "output_type": "display_data"
    },
    {
     "data": {
      "text/plain": [
       "\u001b[0;31mOut[2:54]: \u001b[0m\n",
       "KMeans({\n",
       "    \"n_clusters\": 3,\n",
       "    \"init\": \"probability_based\",\n",
       "    \"max_iter\": 300,\n",
       "    \"tol\": 0.0001,\n",
       "    \"random_state\": null\n",
       "})"
      ]
     },
     "metadata": {
      "after": [],
      "completed": "2025-05-19T19:30:37.759682Z",
      "data": {},
      "engine_id": 2,
      "engine_uuid": "e3e9e719-1b11a826b66969f71d179e21",
      "error": null,
      "execute_input": "k = 3\nkmeans = ht.cluster.KMeans(n_clusters=k, init=\"kmeans++\")\nkmeans.fit(iris)\n",
      "execute_result": {
       "data": {
        "text/plain": "KMeans({\n    \"n_clusters\": 3,\n    \"init\": \"probability_based\",\n    \"max_iter\": 300,\n    \"tol\": 0.0001,\n    \"random_state\": null\n})"
       },
       "execution_count": 54,
       "metadata": {}
      },
      "follow": [],
      "is_broadcast": false,
      "is_coalescing": false,
      "msg_id": "762efd2c-13bb8db32ded39032c1e088e_231924_46",
      "outputs": [],
      "received": "2025-05-19T19:30:37.766196Z",
      "started": "2025-05-19T19:30:37.717854Z",
      "status": "ok",
      "stderr": "",
      "stdout": "",
      "submitted": "2025-05-19T19:30:37.715597Z"
     },
     "output_type": "display_data"
    }
   ],
   "source": [
    "%%px\n",
    "k = 3\n",
    "kmeans = ht.cluster.KMeans(n_clusters=k, init=\"kmeans++\")\n",
    "kmeans.fit(iris)\n"
   ]
  },
  {
   "cell_type": "markdown",
   "metadata": {},
   "source": [
    "Let's see what the results are. In theory, there are 50 samples of each of the 3 iris types: setosa, versicolor and virginica. We will plot the results in a 3D scatter plot, coloring the samples according to the assigned cluster."
   ]
  },
  {
   "cell_type": "code",
   "execution_count": null,
   "metadata": {},
   "outputs": [
    {
     "data": {
      "text/plain": [
       "[stdout:2] Number of points assigned to c1: 97 \n",
       "Number of points assigned to c2: 24 \n",
       "Number of points assigned to c3: 29\n"
      ]
     },
     "metadata": {},
     "output_type": "display_data"
    },
    {
     "data": {
      "text/plain": [
       "[stdout:3] Number of points assigned to c1: 97 \n",
       "Number of points assigned to c2: 24 \n",
       "Number of points assigned to c3: 29\n"
      ]
     },
     "metadata": {},
     "output_type": "display_data"
    },
    {
     "data": {
      "text/plain": [
       "[stdout:0] Number of points assigned to c1: 97 \n",
       "Number of points assigned to c2: 24 \n",
       "Number of points assigned to c3: 29\n"
      ]
     },
     "metadata": {},
     "output_type": "display_data"
    },
    {
     "data": {
      "text/plain": [
       "[stdout:1] Number of points assigned to c1: 97 \n",
       "Number of points assigned to c2: 24 \n",
       "Number of points assigned to c3: 29\n"
      ]
     },
     "metadata": {},
     "output_type": "display_data"
    }
   ],
   "source": [
    "%%px\n",
    "labels = kmeans.predict(iris).squeeze()\n",
    "\n",
    "# Select points assigned to clusters c1, c2 and c3\n",
    "c1 = iris[ht.where(labels == 0), :]\n",
    "c2 = iris[ht.where(labels == 1), :]\n",
    "c3 = iris[ht.where(labels == 2), :]\n",
    "# After slicing, the arrays are not distributed equally among the processes anymore; we need to balance\n",
    "#TODO is balancing really necessary?\n",
    "c1.balance_()\n",
    "c2.balance_()\n",
    "c3.balance_()\n",
    "\n",
    "print(f\"Number of points assigned to c1: {c1.shape[0]} \\n\"\n",
    "        f\"Number of points assigned to c2: {c2.shape[0]} \\n\"\n",
    "        f\"Number of points assigned to c3: {c3.shape[0]}\")"
   ]
  },
  {
   "cell_type": "code",
   "execution_count": null,
   "metadata": {},
   "outputs": [
    {
     "name": "stdout",
     "output_type": "stream",
     "text": [
      "Number of points assigned to c1: 38 \n",
      "Number of points assigned to c2: 50 \n",
      "Number of points assigned to c3: 62\n"
     ]
    }
   ],
   "source": [
    "# compare Heat results with sklearn\n",
    "from sklearn.cluster import KMeans\n",
    "import sklearn.datasets\n",
    "k = 3\n",
    "iris_sk = sklearn.datasets.load_iris().data\n",
    "kmeans_sk = KMeans(n_clusters=k, init=\"k-means++\").fit(iris_sk)\n",
    "labels_sk = kmeans_sk.predict(iris_sk)\n",
    "\n",
    "c1_sk = iris_sk[labels_sk == 0, :]\n",
    "c2_sk = iris_sk[labels_sk == 1, :]\n",
    "c3_sk = iris_sk[labels_sk == 2, :]\n",
    "print(f\"Number of points assigned to c1: {c1_sk.shape[0]} \\n\"\n",
    "        f\"Number of points assigned to c2: {c2_sk.shape[0]} \\n\"\n",
    "        f\"Number of points assigned to c3: {c3_sk.shape[0]}\")"
   ]
  }
 ],
 "metadata": {
  "kernelspec": {
   "display_name": "heat-dev-311",
   "language": "python",
   "name": "python3"
  },
  "language_info": {
   "codemirror_mode": {
    "name": "ipython",
    "version": 3
   },
   "file_extension": ".py",
   "mimetype": "text/x-python",
   "name": "python",
   "nbconvert_exporter": "python",
   "pygments_lexer": "ipython3",
   "version": "3.11.8"
  }
 },
 "nbformat": 4,
 "nbformat_minor": 4
}
