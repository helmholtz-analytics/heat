{
 "cells": [
  {
   "cell_type": "markdown",
   "metadata": {},
   "source": [
    "# Matrix factorizations\n",
    "\n",
    "### Refresher\n",
    "\n",
    "Using PyTorch as compute engine and mpi4py for communication, Heat implements a number of array operations and algorithms that are optimized for memory-distributed data volumes. This allows you to tackle datasets that are too large for single-node (or worse, single-GPU) processing. \n",
    "\n",
    "As opposed to task-parallel frameworks, Heat takes a data-parallel approach, meaning that each \"worker\" or MPI process performs the same tasks on different slices of the data. Many operations and algorithms are not embarassingly parallel, and involve data exchange between processes. Heat operations and algorithms are designed to minimize this communication overhead, and to make it transparent to the user.\n",
    "\n",
    "In other words: \n",
    "- you don't have to worry about optimizing data chunk sizes; \n",
    "- you don't have to make sure your research problem is embarassingly parallel, or artificially make your dataset smaller so your RAM is sufficient; \n",
    "- you do have to make sure that you have sufficient **overall** RAM to run your global task (e.g. number of nodes / GPUs)."
   ]
  },
  {
   "cell_type": "markdown",
   "metadata": {},
   "source": [
    "In the following, we will demonstrate the usage of Heat's truncated SVD algorithm. "
   ]
  },
  {
   "cell_type": "markdown",
   "metadata": {},
   "source": [
    "### SVD and its truncated counterparts in a nutshell \n",
    "\n",
    "Let $X \\in \\mathbb{R}^{m \\times n}$ be a matrix, e.g., given by a data set consisting of $m$ data points $\\in \\mathbb{R}^n$ stacked together. The so-called **singular value decomposition (SVD)** of $X$ is given by \n",
    "\n",
    "$$\n",
    "\tX = U \\Sigma V^T\n",
    "$$\n",
    "\n",
    "where $U \\in \\mathbb{R}^{m \\times r_X}$ and $V \\in \\mathbb{R}^{n \\times r_X}$ have orthonormal columns, $\\Sigma = \\text{diag}(\\sigma_1,...,\\sigma_{r_X}) \\in \\mathbb{R}^{r_X \\times r_X}$ is a diagonal matrix containing the so-called singular values $\\sigma_1 \\geq \\sigma_2 \\geq ... \\geq \\sigma_{r_X} > 0$, and $r_X \\leq \\min(m,n)$ denotes the rank of $X$ (i.e. the dimension of the subspace of $\\mathbb{R}^m$ spanned by the columns of $X$). Since $\\Sigma = U^T X V$ is diagonal, one can imagine this decomposition as finding orthogonal coordinate transformations under which $X$ looks \"linear\". "
   ]
  },
  {
   "cell_type": "markdown",
   "metadata": {},
   "source": [
    "### SVD in data science\n",
    "\n",
    "In data science, SVD is more often known as **principle component analysis (PCA)**, the columns of $U$ being called the principle components of $X$. In fact, in many applications **truncated SVD/PCA** suffices: to reduce $X$ to the \"essential\" information, one chooses a truncation rank $0 < r \\leq r_X$ and considers the truncated SVD/PCA given by \n",
    "\n",
    "$$\n",
    "X \\approx X_r := U_{[:,:r]} \\Sigma_{[:r,:r]} V_{[:,:r]}^T\n",
    "$$\n",
    "\n",
    "where we have used `numpy`-like notation for selecting only the first $r$ columns of $U$ and $V$, respectively. The rationale behind this is that if the first $r$ singular values of $X$ are much larger than the remaining ones, $X_r$ will still contain all \"essential\" information contained in $X$; in mathematical terms: \n",
    "\n",
    "$$\n",
    "\\lVert X_r - X \\rVert_{F}^2 = \\sum_{i=r+1}^{r_X} \\sigma_i^2, \n",
    "$$\n",
    "\n",
    "where $\\lVert \\cdot \\rVert_F$ denotes the Frobenius norm. Thus, truncated SVD/PCA may be used for, e.g.,  \n",
    "* filtering away non-essential information in order to get a \"feeling\" for the main characteristics of your data set, \n",
    "* to detect linear (or \"almost\" linear) dependencies in your data, \n",
    "* to generate features for further processing of your data. \n",
    "\n",
    "Moreover, there is a plenty of more advanced data analytics and data-based simulation techniques, such as, e.g., Proper Orthogonal Decomposition (POD) or Dynamic Mode Decomposition (DMD), that are based on SVD/PCA. "
   ]
  },
  {
   "cell_type": "markdown",
   "metadata": {},
   "source": [
    "### Truncated SVD in Heat\n",
    "\n",
    "In Heat we have currently implemented an algorithm for computing an approximate truncated SVD, where truncation takes place either w.r.t. a fixed truncation-rank (`heat.linalg.hsvd_rank`) or w.r.t. a desired accuracy (`heat.linalg.hsvd_rtol`). In the latter case it can be ensured that it holds for the \"reconstruction error\": \n",
    "\n",
    "$$\n",
    "\\frac{\\lVert X - U U^T X \\rVert_F}{\\lVert X \\rVert_F} \\overset{!}{\\leq} \\text{rtol},\n",
    "$$\n",
    "\n",
    "where $U$ denotes the approximate left-singular vectors of $X$ computed by `heat.linalg.hsvd_rtol`. \n"
   ]
  },
  {
   "cell_type": "markdown",
   "metadata": {},
   "source": [
    "To demonstrate the usage of Heat's truncated SVD algorithm, we will load the data set from the last example and then compute its truncated SVD. As usual, first we need to gain access to the MPI environment."
   ]
  },
  {
   "cell_type": "code",
   "execution_count": null,
   "metadata": {},
   "outputs": [
    {
     "name": "stdout",
     "output_type": "stream",
     "text": [
      "4 engines found\n"
     ]
    }
   ],
   "source": [
    "from ipyparallel import Client\n",
    "rc = Client(profile=\"default\")\n",
    "rc.ids\n",
    "\n",
    "if len(rc.ids) == 0:\n",
    "    print(\"No engines found\")\n",
    "else:\n",
    "    print(f\"{len(rc.ids)} engines found\")"
   ]
  },
  {
   "cell_type": "code",
   "execution_count": null,
   "metadata": {},
   "outputs": [
    {
     "data": {
      "text/plain": [
       "\u001b[0;31mOut[1:41]: \u001b[0m<DNDarray(MPI-rank: 1, Shape: (1797, 64), Split: 0, Local Shape: (449, 64), Device: cpu:0, Dtype: float64)>"
      ]
     },
     "metadata": {
      "after": null,
      "completed": null,
      "data": {},
      "engine_id": 1,
      "engine_uuid": "4a6ffcbf-4b7c9961beb0aa49f4f299a5",
      "error": null,
      "execute_input": "import heat as ht\nimport sklearn\nimport sklearn.datasets\n\nX,_ = sklearn.datasets.load_digits(return_X_y=True)\nX = ht.array(X, split=0)\nX\n",
      "execute_result": {
       "data": {
        "text/plain": "<DNDarray(MPI-rank: 1, Shape: (1797, 64), Split: 0, Local Shape: (449, 64), Device: cpu:0, Dtype: float64)>"
       },
       "execution_count": 41,
       "metadata": {}
      },
      "follow": null,
      "msg_id": null,
      "outputs": [],
      "received": null,
      "started": null,
      "status": null,
      "stderr": "",
      "stdout": "",
      "submitted": "2025-05-19T19:27:27.875170Z"
     },
     "output_type": "display_data"
    },
    {
     "data": {
      "text/plain": [
       "\u001b[0;31mOut[2:41]: \u001b[0m<DNDarray(MPI-rank: 2, Shape: (1797, 64), Split: 0, Local Shape: (449, 64), Device: cpu:0, Dtype: float64)>"
      ]
     },
     "metadata": {
      "after": null,
      "completed": null,
      "data": {},
      "engine_id": 2,
      "engine_uuid": "e3e9e719-1b11a826b66969f71d179e21",
      "error": null,
      "execute_input": "import heat as ht\nimport sklearn\nimport sklearn.datasets\n\nX,_ = sklearn.datasets.load_digits(return_X_y=True)\nX = ht.array(X, split=0)\nX\n",
      "execute_result": {
       "data": {
        "text/plain": "<DNDarray(MPI-rank: 2, Shape: (1797, 64), Split: 0, Local Shape: (449, 64), Device: cpu:0, Dtype: float64)>"
       },
       "execution_count": 41,
       "metadata": {}
      },
      "follow": null,
      "msg_id": null,
      "outputs": [],
      "received": null,
      "started": null,
      "status": null,
      "stderr": "",
      "stdout": "",
      "submitted": "2025-05-19T19:27:27.875244Z"
     },
     "output_type": "display_data"
    },
    {
     "data": {
      "text/plain": [
       "\u001b[0;31mOut[0:59]: \u001b[0m<DNDarray(MPI-rank: 0, Shape: (1797, 64), Split: 0, Local Shape: (450, 64), Device: cpu:0, Dtype: float64)>"
      ]
     },
     "metadata": {
      "after": null,
      "completed": null,
      "data": {},
      "engine_id": 0,
      "engine_uuid": "26ba0021-35d3d060b50582f7d11d6ead",
      "error": null,
      "execute_input": "import heat as ht\nimport sklearn\nimport sklearn.datasets\n\nX,_ = sklearn.datasets.load_digits(return_X_y=True)\nX = ht.array(X, split=0)\nX\n",
      "execute_result": {
       "data": {
        "text/plain": "<DNDarray(MPI-rank: 0, Shape: (1797, 64), Split: 0, Local Shape: (450, 64), Device: cpu:0, Dtype: float64)>"
       },
       "execution_count": 59,
       "metadata": {}
      },
      "follow": null,
      "msg_id": null,
      "outputs": [],
      "received": null,
      "started": null,
      "status": null,
      "stderr": "",
      "stdout": "",
      "submitted": "2025-05-19T19:27:27.874886Z"
     },
     "output_type": "display_data"
    },
    {
     "data": {
      "text/plain": [
       "\u001b[0;31mOut[3:41]: \u001b[0m<DNDarray(MPI-rank: 3, Shape: (1797, 64), Split: 0, Local Shape: (449, 64), Device: cpu:0, Dtype: float64)>"
      ]
     },
     "metadata": {
      "after": [],
      "completed": "2025-05-19T19:27:27.893702Z",
      "data": {},
      "engine_id": 3,
      "engine_uuid": "b9f6f6e8-01c224a4024814eaffce2266",
      "error": null,
      "execute_input": "import heat as ht\nimport sklearn\nimport sklearn.datasets\n\nX,_ = sklearn.datasets.load_digits(return_X_y=True)\nX = ht.array(X, split=0)\nX\n",
      "execute_result": {
       "data": {
        "text/plain": "<DNDarray(MPI-rank: 3, Shape: (1797, 64), Split: 0, Local Shape: (449, 64), Device: cpu:0, Dtype: float64)>"
       },
       "execution_count": 41,
       "metadata": {}
      },
      "follow": [],
      "is_broadcast": false,
      "is_coalescing": false,
      "msg_id": "09810356-47db3eecea6fcfe880a7f49c_231811_4",
      "outputs": [],
      "received": "2025-05-19T19:27:27.898332Z",
      "started": "2025-05-19T19:27:27.879051Z",
      "status": "ok",
      "stderr": "",
      "stdout": "",
      "submitted": "2025-05-19T19:27:27.875269Z"
     },
     "output_type": "display_data"
    }
   ],
   "source": [
    "%%px\n",
    "import heat as ht\n",
    "import sklearn\n",
    "import sklearn.datasets\n",
    "\n",
    "X,_ = sklearn.datasets.load_digits(return_X_y=True)\n",
    "X = ht.array(X, split=0)\n",
    "X"
   ]
  },
  {
   "cell_type": "markdown",
   "metadata": {},
   "source": [
    "Note that due to the transpose, `X` is distributed along the columns now; this is required by the hSVD-algorithm. "
   ]
  },
  {
   "cell_type": "markdown",
   "metadata": {},
   "source": [
    "Let's first compute the truncated SVD by setting the relative tolerance. "
   ]
  },
  {
   "cell_type": "code",
   "execution_count": null,
   "metadata": {},
   "outputs": [
    {
     "data": {
      "text/plain": [
       "[stdout:3] relative residual:  rank:  55\n"
      ]
     },
     "metadata": {},
     "output_type": "display_data"
    },
    {
     "data": {
      "text/plain": [
       "[stdout:1] relative residual:  rank:  55\n"
      ]
     },
     "metadata": {},
     "output_type": "display_data"
    },
    {
     "data": {
      "text/plain": [
       "[stdout:0] hSVD level 0...\t processes  0\t\t1\t\t2\t\t3\n",
       "              current ranks: 55\t\t56\t\t58\t\t56\n",
       "hSVD level 1...\t processes  0\t\t2\n",
       "              current ranks: 57\t\t59\n",
       "hSVD level 2...\t processes  0\n",
       "relative residual: DNDarray(0.0085, dtype=ht.float64, device=cpu:0, split=None) rank:  55\n"
      ]
     },
     "metadata": {},
     "output_type": "display_data"
    },
    {
     "data": {
      "text/plain": [
       "[stdout:2] relative residual:  rank:  55\n"
      ]
     },
     "metadata": {},
     "output_type": "display_data"
    }
   ],
   "source": [
    "%%px\n",
    "# compute truncated SVD w.r.t. relative tolerance \n",
    "svd_with_reltol = ht.linalg.hsvd_rtol(X,rtol=1.0e-2,compute_sv=True,silent=False)\n",
    "print(\"relative residual:\", svd_with_reltol[3], \"rank: \", svd_with_reltol[0].shape[1])"
   ]
  },
  {
   "cell_type": "markdown",
   "metadata": {},
   "source": [
    "Alternatively, you can compute a truncated SVD with a fixed truncation rank:"
   ]
  },
  {
   "cell_type": "code",
   "execution_count": null,
   "metadata": {},
   "outputs": [
    {
     "data": {
      "text/plain": [
       "[stdout:2] relative residual:  rank:  3\n"
      ]
     },
     "metadata": {},
     "output_type": "display_data"
    },
    {
     "data": {
      "text/plain": [
       "[stdout:1] relative residual:  rank:  3\n"
      ]
     },
     "metadata": {},
     "output_type": "display_data"
    },
    {
     "data": {
      "text/plain": [
       "[stdout:0] hSVD level 0...\t processes  0\t\t1\t\t2\t\t3\n",
       "              current ranks: 8\t\t8\t\t8\t\t8\n",
       "hSVD level 1...\t processes  0\n",
       "relative residual: DNDarray(0.5713, dtype=ht.float64, device=cpu:0, split=None) rank:  3\n"
      ]
     },
     "metadata": {},
     "output_type": "display_data"
    },
    {
     "data": {
      "text/plain": [
       "[stdout:3] relative residual:  rank:  3\n"
      ]
     },
     "metadata": {},
     "output_type": "display_data"
    }
   ],
   "source": [
    "%%px\n",
    "# compute truncated SVD w.r.t. a fixed truncation rank \n",
    "svd_with_rank = ht.linalg.hsvd_rank(X, maxrank=3,compute_sv=True,silent=False)\n",
    "print(\"relative residual:\", svd_with_rank[3], \"rank: \", svd_with_rank[0].shape[1])\n"
   ]
  },
  {
   "cell_type": "markdown",
   "metadata": {},
   "source": [
    "Once we have computed the truncated SVD, we can use it to approximate the original data matrix `X` by the truncated matrix `X_r`. \n",
    "\n",
    "Check out the plot below to see how Heat's truncated SVD algorithm scales with the number of MPI processes and size of the dataset."
   ]
  },
  {
   "cell_type": "markdown",
   "metadata": {},
   "source": [
    "<div>\n",
    "  <img src=https://github.com/helmholtz-analytics/heat/blob/main/doc/images/hSVD_bench_rank5.png?raw=true title=\"hSVD rank 5\" width=\"30%\" style=\"float:left\"/>\n",
    "  <img src=https://github.com/helmholtz-analytics/heat/blob/main/doc/images/hSVD_bench_rank50.png?raw=true title=\"hSVD rank 50\" width=\"30%\" style=\"float:center \"/>\n",
    "  <img src=https://github.com/helmholtz-analytics/heat/blob/main/doc/images/hSVD_bench_rank500.png?raw=true title=\"HSVD rank 500\" width=\"30%\" style=\"float:center\"/>\n",
    "</div>\n"
   ]
  },
  {
   "cell_type": "markdown",
   "metadata": {},
   "source": [
    "### Other factorizations\n",
    "\n",
    "Other common factorization algorithms are supported in Heat, such as:\n",
    "- QR decomposition (`heat.linalg.qr`),\n",
    "- Lanczos algorithm for computing the largest eigenvalues and corresponding eigenvectors (`heat.linalg.lanczos`)\n",
    "\n",
    "Check out our [`linalg` PRs](https://github.com/helmholtz-analytics/heat/pulls?q=is%3Aopen+is%3Apr+label%3Alinalg) to see what's in progress.\n"
   ]
  },
  {
   "cell_type": "markdown",
   "metadata": {},
   "source": [
    "**References for hierarchical SVD**\n",
    "\n",
    "1. Iwen, Ong. *A distributed and incremental SVD algorithm for agglomerative data analysis on large networks.* SIAM J. Matrix Anal. Appl., **37** (4), 2016.\n",
    "2. Himpe, Leibner, Rave. *Hierarchical approximate proper orthogonal decomposition.* SIAM J. Sci. Comput., **4** (5), 2018.\n",
    "3. Halko, Martinsson, Tropp. *Finding Structure with Randomness: Probabilistic Algorithms for Constructing Approximate Matrix Decompositions.* SIAM Rev. 53, **2** (2011)"
   ]
  }
 ],
 "metadata": {
  "kernelspec": {
   "display_name": "heat-dev-311",
   "language": "python",
   "name": "python3"
  },
  "language_info": {
   "codemirror_mode": {
    "name": "ipython",
    "version": 3
   },
   "file_extension": ".py",
   "mimetype": "text/x-python",
   "name": "python",
   "nbconvert_exporter": "python",
   "pygments_lexer": "ipython3",
   "version": "3.11.8"
  }
 },
 "nbformat": 4,
 "nbformat_minor": 4
}
