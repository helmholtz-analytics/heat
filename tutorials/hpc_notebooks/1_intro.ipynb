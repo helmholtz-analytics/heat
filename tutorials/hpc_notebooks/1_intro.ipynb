{
 "cells": [
  {
   "cell_type": "markdown",
   "metadata": {},
   "source": [
    "# Heat Tutorial\n",
    "---"
   ]
  },
  {
   "cell_type": "markdown",
   "metadata": {},
   "source": [
    "The original version of this tutorial was inspired by the [CS228 tutorial](https://github.com/kuleshov/cs228-material/blob/master/tutorials/python/cs228-python-tutorial.ipynb) by Volodomyr Kuleshov and Isaac Caswell.\n",
    "\n",
    "For this interactive HPC adaptation, we have heavily referenced the [HPC Python](https://gitlab.jsc.fz-juelich.de/sdlbio-courses/hpc-python) course and the [jupyter-jsc](https://github.com/FZJ-JSC/jupyter-jsc-notebooks) repository. Many thanks to Jan Meinke, Jens Henrik Goebbert, Tim Kreuzer, Alice Gorsch @ Jülich Supercomputing Centre for help setting this up."
   ]
  },
  {
   "cell_type": "markdown",
   "metadata": {},
   "source": [
    "\n",
    "<div style=\"float: right; padding-right: 2em; padding-top: 2em;\">\n",
    "    <img src=\"https://raw.githubusercontent.com/helmholtz-analytics/heat/master/doc/images/logo.png\"></img>\n",
    "</div>\n",
    "\n",
    "## Introduction\n",
    "---\n",
    "<div class=\"alert alert-block alert-warning\">\n",
    "<b>Note:</b>\n",
    "This tutorial is designed to run on <a href=\"https://jupyter-jsc.fz-juelich.de/\">Jupyter-JSC</a>, a JupyterLab environment provided by the Jülich Supercomputing Centre.  \n",
    "If you want to run the tutorial on your local machine, please refer to the `tutorials/local` directory in this repository.\n",
    "</div>\n",
    "\n",
    "\n",
    "\n",
    "\n",
    "## Setting up the environment\n",
    "\n",
    "The rest of this tutorial assumes you have started a JupyterLab at [jupyter-jsc](https://jupyter-jsc.fz-juelich.de/) with the following parameters:\n",
    "\n",
    "| **Lab Config** |  |\n",
    "| --- | --- |\n",
    "| Name | [YOUR CHOICE] |\n",
    "| Version | JupyterLab - 3.6|\n",
    "| System | JURECA |\n",
    "| Account | [YOUR USERNAME] |\n",
    "| Project | training2404 |\n",
    "| Partition | dc-gpu |\n",
    "| Reservation | derse24_heat |\n",
    "\n",
    "| **Resources** | |\n",
    "| -- | -- |\n",
    "| Nodes [1,24] | 1 |\n",
    "| GPUs [1,4] | 4 |\n",
    "| Runtime (minutes) | 90 |\n",
    "\n",
    "The `derse24_heat` reservation is available from 13:30 to 15:00 on the 6th of March, 2024."
   ]
  },
  {
   "cell_type": "markdown",
   "metadata": {},
   "source": [
    "It might take several minutes for the JupyterLab to start. Once it does, the JupyterLab interface will open in your browser with a *Launcher* tab.\n",
    "\n",
    "Scroll down to find the *Other* section and start the *Terminal*.\n",
    "\n",
    "In the terminal, copy the tutorials from the project directory to your home directory:\n",
    "\n",
    "```bash\n",
    "cd\n",
    "cp -r /p/project/training2404/tutorials* .\n",
    "```\n",
    "\n",
    "Now you have your copy of the tutorials and can modify them as you like. \n",
    "\n",
    "Navigate to `$HOME`, then `tutorials/hpc`. Open `1_intro.ipynb`."
   ]
  },
  {
   "cell_type": "code",
   "execution_count": null,
   "metadata": {},
   "outputs": [],
   "source": []
  },
  {
   "cell_type": "markdown",
   "metadata": {},
   "source": [
    "You will be prompted to select a kernel. Choose `heat-1.4.0-dev`, which includes all features on the Heat `main` branch as of March 4th 2024.\n",
    "\n",
    "You can access the `heat-1.4.0-dev` virtual environment from the terminal by typing:\n",
    "\n",
    "```bash\n",
    "source /p/project/training2404/heat_derse24.sh\n",
    "```\n",
    "\n",
    "In the terminal, you can run the following command to see what packages (modules) are part of the kernel environment:\n",
    "\n",
    "```bash\n",
    "module list\n",
    "```\n",
    "\n"
   ]
  },
  {
   "cell_type": "markdown",
   "metadata": {},
   "source": [
    "### Resources\n",
    "\n",
    "We will be running the tutorial on the GPU partition of the [JURECA](https://apps.fz-juelich.de/jsc/hps/jureca/configuration.html) cluster, with the following hardware:\n",
    "\n",
    "- 2× AMD EPYC 7742, 2× 64 cores, 2.25 GHz\n",
    "- 4× NVIDIA A100 GPU, 4× 40 GB HBM2e\n"
   ]
  },
  {
   "cell_type": "markdown",
   "metadata": {},
   "source": [
    "Each of you has access to 1 node and 4 GPUs.\n",
    "\n",
    "To be able to run this tutorial interactively for parallel computing, we need to start an [IPython cluster](https://ipyparallel.readthedocs.io/en/latest/tutorial/process.html).\n",
    "\n",
    "\n",
    "In the terminal, type:\n",
    "\n",
    "```bash\n",
    "ipcontroller  &\n",
    "srun -n 4 -c 12 --ntasks-per-node 4 --time 00:90:00   -A training2404 -p dc_gpu ipengine start\n",
    "```\n",
    "On your terminal, you should see something like this:\n",
    "\n",
    "```bash\n",
    "2024-03-04 16:30:24.740 [IPController] Registering 4 new hearts\n",
    "2024-03-04 16:30:24.740 [IPController] registration::finished registering engine 0:63ac2343-f1deab70b14c0e14ca4c1630 in 5672ms\n",
    "2024-03-04 16:30:24.740 [IPController] engine::Engine Connected: 0\n",
    "2024-03-04 16:30:24.744 [IPController] registration::finished registering engine 3:673ce83c-eb7ccae6c69c52382c8349c1 in 5397ms\n",
    "2024-03-04 16:30:24.744 [IPController] engine::Engine Connected: 3\n",
    "2024-03-04 16:30:24.745 [IPController] registration::finished registering engine 1:d7936040-5ab6c117b845850a3103b2e8 in 5627ms\n",
    "2024-03-04 16:30:24.745 [IPController] engine::Engine Connected: 1\n",
    "2024-03-04 16:30:24.745 [IPController] registration::finished registering engine 2:ca57a419-2f2c89914a6c17865103c3e7 in 5508ms\n",
    "2024-03-04 16:30:24.745 [IPController] engine::Engine Connected: 2\n",
    "```"
   ]
  },
  {
   "cell_type": "markdown",
   "metadata": {},
   "source": [
    "<div class=\"alert alert-block alert-info\">\n",
    "<b>Note:</b>\n",
    "You must now reload the kernel to be able to access the IPython cluster.\n",
    "</div>\n"
   ]
  },
  {
   "cell_type": "markdown",
   "metadata": {},
   "source": [
    "## What is Heat for?\n",
    "---\n",
    "\n",
    "[**deRSE24 NOTE**:  do attend Fabian Hoppe's talk [TODAY at 16:30](https://events.hifis.net/event/994/contributions/7940/) for more details, benchmarks, and an overview of the parallel Python ecosystem.] \n",
    "\n",
    "\n",
    "Straight from our [GitHub repository](https://github.com/helmholtz-analytics/heat):\n",
    "\n",
    "Heat builds on [PyTorch](https://pytorch.org/) and [mpi4py](https://mpi4py.readthedocs.io) to provide high-performance computing infrastructure for memory-intensive applications within the NumPy/SciPy ecosystem.\n",
    "\n",
    "\n",
    "With Heat you can:\n",
    "- port existing NumPy/SciPy code from single-CPU to multi-node clusters with minimal coding effort;\n",
    "- exploit the entire, cumulative RAM of your many nodes for memory-intensive operations and algorithms;\n",
    "- run your NumPy/SciPy code on GPUs (CUDA, ROCm, coming up: Apple MPS).\n"
   ]
  },
  {
   "cell_type": "markdown",
   "metadata": {},
   "source": [
    "Why?\n",
    "\n",
    "- significant **scalability** with respect to task-parallel frameworks;\n",
    "- analysis of massive datasets without breaking them up in artificially independent chunks;\n",
    "- ease of use: script and test on your laptop, port straight to HPC cluster; \n",
    "- PyTorch-based: GPU support beyond the CUDA ecosystem."
   ]
  },
  {
   "cell_type": "markdown",
   "metadata": {},
   "source": [
    "<div>\n",
    "  <img src=https://github.com/helmholtz-analytics/heat/blob/docs/tutorials-hpc/doc/images/heatvsdask_strong_smalldata_without.png?raw=true title=\"Strong scaling CPU\" width=\"30%\" style=\"float:center\"/>\n",
    "  <img src=https://github.com/helmholtz-analytics/heat/blob/docs/tutorials-hpc/doc/images/heatvsdask_weak_smalldata_without.png?raw=true title=\"Weak scaling CPU\" width=\"30%\" style=\"float:center \"/>\n",
    "  <img src=https://github.com/helmholtz-analytics/heat/blob/docs/tutorials-hpc/doc/images/weak_scaling_gpu_terrabyte.png?raw=true title=\"Weak scaling GPU\" width=\"30%\" style=\"float:center\"/>\n",
    "</div>"
   ]
  },
  {
   "cell_type": "markdown",
   "metadata": {},
   "source": [
    "To be able to start working with Heat on an HPC cluster, we first need to check the health of the available processes. We will use `ipyparallel` for this. For a great intro on `ipyparallel` usage on our supercomputers, check out Jan Meinke's tutorial [\"Interactive Parallel Computing with IPython Parallel\"](https://gitlab.jsc.fz-juelich.de/sdlbio-courses/hpc-python/-/blob/master/06_LocalParallel.ipynb) or the [ipyparallel docs](https://ipyparallel.readthedocs.io/en/latest/)."
   ]
  },
  {
   "cell_type": "code",
   "execution_count": null,
   "metadata": {
    "tags": []
   },
   "outputs": [],
   "source": [
    "from ipyparallel import Client\n",
    "rc = Client(profile=\"default\")"
   ]
  },
  {
   "cell_type": "markdown",
   "metadata": {},
   "source": [
    "Earlier, we have started an IPython cluster with 4 processes. We can now check if the processes are available."
   ]
  },
  {
   "cell_type": "code",
   "execution_count": 3,
   "metadata": {
    "tags": []
   },
   "outputs": [
    {
     "data": {
      "text/plain": [
       "[0, 1, 2, 3]"
      ]
     },
     "execution_count": 3,
     "metadata": {},
     "output_type": "execute_result"
    }
   ],
   "source": [
    "rc.ids"
   ]
  },
  {
   "cell_type": "markdown",
   "metadata": {},
   "source": [
    "The `px` magic command allows you to execute Python commands or a Jupyter cell on the ipyparallel engines interactively ([%%px documentation](https://ipyparallel.readthedocs.io/en/latest/tutorial/magics.html))."
   ]
  },
  {
   "cell_type": "markdown",
   "metadata": {},
   "source": [
    "We can now finally import `heat` on our 4-process cluster."
   ]
  },
  {
   "cell_type": "code",
   "execution_count": 5,
   "metadata": {
    "tags": []
   },
   "outputs": [
    {
     "data": {
      "text/plain": [
       "[stderr:3] /p/scratch/training2404/jupyter/kernels/heat1.3.1/lib/python3.10/site-packages/tqdm/auto.py:21: TqdmWarning: IProgress not found. Please update jupyter and ipywidgets. See https://ipywidgets.readthedocs.io/en/stable/user_install.html\n",
       "  from .autonotebook import tqdm as notebook_tqdm\n"
      ]
     },
     "metadata": {},
     "output_type": "display_data"
    },
    {
     "data": {
      "text/plain": [
       "[stderr:2] /p/scratch/training2404/jupyter/kernels/heat1.3.1/lib/python3.10/site-packages/tqdm/auto.py:21: TqdmWarning: IProgress not found. Please update jupyter and ipywidgets. See https://ipywidgets.readthedocs.io/en/stable/user_install.html\n",
       "  from .autonotebook import tqdm as notebook_tqdm\n"
      ]
     },
     "metadata": {},
     "output_type": "display_data"
    },
    {
     "data": {
      "text/plain": [
       "[stderr:0] /p/scratch/training2404/jupyter/kernels/heat1.3.1/lib/python3.10/site-packages/tqdm/auto.py:21: TqdmWarning: IProgress not found. Please update jupyter and ipywidgets. See https://ipywidgets.readthedocs.io/en/stable/user_install.html\n",
       "  from .autonotebook import tqdm as notebook_tqdm\n"
      ]
     },
     "metadata": {},
     "output_type": "display_data"
    },
    {
     "data": {
      "text/plain": [
       "[stderr:1] /p/scratch/training2404/jupyter/kernels/heat1.3.1/lib/python3.10/site-packages/tqdm/auto.py:21: TqdmWarning: IProgress not found. Please update jupyter and ipywidgets. See https://ipywidgets.readthedocs.io/en/stable/user_install.html\n",
       "  from .autonotebook import tqdm as notebook_tqdm\n"
      ]
     },
     "metadata": {},
     "output_type": "display_data"
    },
    {
     "name": "stdout",
     "output_type": "stream",
     "text": [
      "%px: 100%|██████████| 4/4 [00:07<00:00,  1.96s/tasks]\n"
     ]
    }
   ],
   "source": [
    "%px import heat as ht"
   ]
  }
 ],
 "metadata": {
  "kernelspec": {
   "display_name": "heat1.3.1",
   "language": "python",
   "name": "heat1.3.1"
  },
  "language_info": {
   "codemirror_mode": {
    "name": "ipython",
    "version": 3
   },
   "file_extension": ".py",
   "mimetype": "text/x-python",
   "name": "python",
   "nbconvert_exporter": "python",
   "pygments_lexer": "ipython3",
   "version": "3.10.4"
  }
 },
 "nbformat": 4,
 "nbformat_minor": 4
}
